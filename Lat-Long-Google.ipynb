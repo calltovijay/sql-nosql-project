{
 "cells": [
  {
   "cell_type": "code",
   "execution_count": 1,
   "metadata": {},
   "outputs": [],
   "source": [
    "import requests\n",
    "def get_lat_lng(apiKey, address):\n",
    "    url = ('https://maps.googleapis.com/maps/api/geocode/json?address={}&key={}'\n",
    "           .format(address.replace(' ','+'), apiKey))\n",
    "    try:\n",
    "        response = requests.get(url)\n",
    "        resp_json_payload = response.json()\n",
    "        lat = resp_json_payload['results'][0]['geometry']['location']['lat']\n",
    "        lng = resp_json_payload['results'][0]['geometry']['location']['lng']\n",
    "    except:\n",
    "        print('ERROR: {}'.format(address))\n",
    "        lat = 0\n",
    "        lng = 0\n",
    "    return lat, lng"
   ]
  },
  {
   "cell_type": "code",
   "execution_count": 2,
   "metadata": {},
   "outputs": [],
   "source": [
    "fname = 'GoogleAPIKey.txt'\n",
    "file  = open(fname, 'r')\n",
    "apiKey = file.read()"
   ]
  },
  {
   "cell_type": "code",
   "execution_count": 7,
   "metadata": {},
   "outputs": [
    {
     "name": "stdout",
     "output_type": "stream",
     "text": [
      "                         ParkName State Country  \\\n",
      "0  Abraham Lincoln Birthplace NHP    KY     USA   \n",
      "1                       Acadia NP    ME     USA   \n",
      "2                       Adams NHP    MA     USA   \n",
      "3        African Burial Ground NM    NY     USA   \n",
      "4            Agate Fossil Beds NM    NE     USA   \n",
      "5      Alibates Flint Quarries NM    TX     USA   \n",
      "6  Allegheny Portage Railroad NHS    PA     USA   \n",
      "7                     Amistad NRA    TX     USA   \n",
      "8               Andersonville NHS    GA     USA   \n",
      "9              Andrew Johnson NHS    TN     USA   \n",
      "\n",
      "                                   address  \n",
      "0  Abraham Lincoln Birthplace NHP, KY, USA  \n",
      "1                       Acadia NP, ME, USA  \n",
      "2                       Adams NHP, MA, USA  \n",
      "3        African Burial Ground NM, NY, USA  \n",
      "4            Agate Fossil Beds NM, NE, USA  \n",
      "5      Alibates Flint Quarries NM, TX, USA  \n",
      "6  Allegheny Portage Railroad NHS, PA, USA  \n",
      "7                     Amistad NRA, TX, USA  \n",
      "8               Andersonville NHS, GA, USA  \n",
      "9              Andrew Johnson NHS, TN, USA  \n",
      "ERROR: Missouri NRR, SD, USA\n"
     ]
    }
   ],
   "source": [
    "import pandas as pd\n",
    "import numpy as np\n",
    "np_loc=pd.read_csv(\"geo_locations_latest.csv\")\n",
    "np_address=np_loc[['ParkName','State','Country']]\n",
    "np_address['address'] = np_address[np_address.columns].astype(str).apply(lambda x: ', '.join(x), axis = 1)\n",
    "print(np_address.head(10))\n",
    "#np_loc_new=np_loc.drop(['Latitude','Longitude'], axis=1)\n",
    "np_loc_new =np_loc\n",
    "locations = np_address['address'].values\n",
    "latitude = []\n",
    "longitude = []\n",
    "for loc in locations:   \n",
    "    lat, lng = get_lat_lng(apiKey, loc)\n",
    "    latitude.append(lat)\n",
    "    longitude.append(lng)\n",
    "\n",
    "np_loc_new['Latitude']=latitude\n",
    "np_loc_new['Longitude']=longitude\n",
    "np_loc_new.to_csv('geo_updated.csv')\n"
   ]
  },
  {
   "cell_type": "code",
   "execution_count": 5,
   "metadata": {},
   "outputs": [
    {
     "name": "stdout",
     "output_type": "stream",
     "text": [
      "Abraham Lincoln Birthplace National Historical Park, KY, USA Coordinates:\n",
      "Latitude:  37.53154°\n",
      "Longitude: -85.7352542°\n"
     ]
    }
   ],
   "source": [
    "# get coordinates  \n",
    "address = 'Abraham Lincoln Birthplace National Historical Park, KY, USA'\n",
    "lat, lng = get_lat_lng(apiKey, address)\n",
    "print('{} Coordinates:\\nLatitude:  {}°\\nLongitude: {}°'.format(address,lat, lng))"
   ]
  },
  {
   "cell_type": "code",
   "execution_count": null,
   "metadata": {},
   "outputs": [],
   "source": []
  }
 ],
 "metadata": {
  "kernelspec": {
   "display_name": "Python 3",
   "language": "python",
   "name": "python3"
  },
  "language_info": {
   "codemirror_mode": {
    "name": "ipython",
    "version": 3
   },
   "file_extension": ".py",
   "mimetype": "text/x-python",
   "name": "python",
   "nbconvert_exporter": "python",
   "pygments_lexer": "ipython3",
   "version": "3.7.3"
  }
 },
 "nbformat": 4,
 "nbformat_minor": 4
}
