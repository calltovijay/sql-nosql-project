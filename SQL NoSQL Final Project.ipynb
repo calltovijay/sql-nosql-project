{
 "cells": [
  {
   "cell_type": "markdown",
   "metadata": {},
   "source": [
    "<h1 align=center>SP20: SQL AND NOSQL: 12147</h1> \n",
    "<h1 align=center>US Parks</h1>\n",
    "<h3>Project Team</h3>\n",
    "<li>Huzefa Igatpuriwala - higatpur@iu.edu</li>\n",
    "<li>Saurabh Swaroop - sswaroop@iu.edu</li>\n",
    "<li>Vijayakumar Perumalsamy - vperumal@iu.edu </li>\n"
   ]
  },
  {
   "cell_type": "markdown",
   "metadata": {},
   "source": [
    "<h5><b>Objective:</b></h5>\n",
    "To gain more insights from the given NPS dataset. "
   ]
  },
  {
   "cell_type": "code",
   "execution_count": 1,
   "metadata": {},
   "outputs": [
    {
     "data": {
      "text/html": [
       "        <script type=\"text/javascript\">\n",
       "        window.PlotlyConfig = {MathJaxConfig: 'local'};\n",
       "        if (window.MathJax) {MathJax.Hub.Config({SVG: {font: \"STIX-Web\"}});}\n",
       "        if (typeof require !== 'undefined') {\n",
       "        require.undef(\"plotly\");\n",
       "        requirejs.config({\n",
       "            paths: {\n",
       "                'plotly': ['https://cdn.plot.ly/plotly-latest.min']\n",
       "            }\n",
       "        });\n",
       "        require(['plotly'], function(Plotly) {\n",
       "            window._Plotly = Plotly;\n",
       "        });\n",
       "        }\n",
       "        </script>\n",
       "        "
      ]
     },
     "metadata": {},
     "output_type": "display_data"
    }
   ],
   "source": [
    "import pandas as pd\n",
    "import numpy as np\n",
    "import os\n",
    "from pymongo import MongoClient\n",
    "import json\n",
    "from bson.code import Code\n",
    "import ipywidgets as widgets\n",
    "from ipywidgets import interact, interact_manual\n",
    "from plotly.offline import download_plotlyjs, init_notebook_mode, plot, iplot\n",
    "init_notebook_mode(connected=True) \n",
    "import plotly.graph_objects as go\n",
    "import chart_studio\n",
    "import chart_studio.plotly as py\n",
    "import plotly.express as px\n",
    "from bson.son import SON\n",
    "\n",
    "from plotly.subplots import make_subplots"
   ]
  },
  {
   "cell_type": "code",
   "execution_count": 2,
   "metadata": {},
   "outputs": [
    {
     "name": "stdout",
     "output_type": "stream",
     "text": [
      "Enabling notebook extension jupyter-js-widgets/extension...\r\n",
      "      - Validating: \u001b[32mOK\u001b[0m\r\n"
     ]
    }
   ],
   "source": [
    "!jupyter nbextension enable --sys-prefix --py widgetsnbextension "
   ]
  },
  {
   "cell_type": "code",
   "execution_count": 3,
   "metadata": {},
   "outputs": [
    {
     "name": "stdout",
     "output_type": "stream",
     "text": [
      "Known nbextensions:\r\n",
      "  config dir: /Users/viaandad/ENV3/etc/jupyter/nbconfig\r\n",
      "    notebook section\r\n",
      "      plotlywidget/extension \u001b[32m enabled \u001b[0m\r\n",
      "      - Validating: \u001b[32mOK\u001b[0m\r\n",
      "      jupyter-js-widgets/extension \u001b[32m enabled \u001b[0m\r\n",
      "      - Validating: \u001b[32mOK\u001b[0m\r\n"
     ]
    }
   ],
   "source": [
    "!jupyter nbextension list"
   ]
  },
  {
   "cell_type": "markdown",
   "metadata": {},
   "source": [
    "<h3>Data Preprocessing</h3>\n",
    "\n",
    "The following datasets are mainly used for this visualization.\n",
    "<ul>\n",
    "<li>US Parks Visitors Last 10 years.csv</li>\n",
    "<li>geo_locations.csv</li>\n",
    "<li>us_states_abbr.csv</li>\n",
    "</ul>\n",
    "<br>\n",
    "Read complete US Parks dataset which includes last 10 years of RV campers, Tent Campers and Recreational Visits data by month/year and process the same."
   ]
  },
  {
   "cell_type": "code",
   "execution_count": 4,
   "metadata": {},
   "outputs": [
    {
     "name": "stdout",
     "output_type": "stream",
     "text": [
      "List of columns available in National Parks dataset:\n",
      "Index(['Park', 'UnitCode', 'ParkType', 'Region', 'State', 'Year', 'Month',\n",
      "       'RecreationVisits', 'TentCampers', 'RVCampers'],\n",
      "      dtype='object')\n"
     ]
    }
   ],
   "source": [
    "np_df=pd.read_csv(\"US Parks Visitors Last 10 years.csv\")\n",
    "print(\"List of columns available in National Parks dataset:\")\n",
    "print(np_df.columns)"
   ]
  },
  {
   "cell_type": "code",
   "execution_count": 5,
   "metadata": {},
   "outputs": [
    {
     "name": "stdout",
     "output_type": "stream",
     "text": [
      "National Parks dataset shape: (53296, 10)\n",
      "National Parks dataset sample:                              Park UnitCode                  ParkType  \\\n",
      "0  Abraham Lincoln Birthplace NHP     ABLI  National Historical Park   \n",
      "\n",
      "       Region State  Year  Month  RecreationVisits  TentCampers  RVCampers  \n",
      "0  Southeast     KY  2008      1              5829            0          0  \n"
     ]
    }
   ],
   "source": [
    "print(\"National Parks dataset shape:\",np_df.shape)\n",
    "print(\"National Parks dataset sample:\",np_df.head(1))"
   ]
  },
  {
   "cell_type": "markdown",
   "metadata": {},
   "source": [
    "<h4>Geolocations data collection based on each National Park address</h4>\n",
    "Populated latitude and longitude data from Google API URL for the given park address and API key and updated geo_locations.csv dataset accordingly. Refer the attached <b>Lat-Long-Google.ipynb</b> for more details. \n",
    "<br><br>\n",
    "<b>Google API URL:</b> <a>https://maps.googleapis.com/maps/api/geocode/json?address={}&key={}</a>\n",
    "\n",
    "Read geo-coordinates data from geo_locations.csv."
   ]
  },
  {
   "cell_type": "code",
   "execution_count": 6,
   "metadata": {},
   "outputs": [
    {
     "name": "stdout",
     "output_type": "stream",
     "text": [
      "List of columns available in National Park Locations dataset:\n",
      "Index(['UnitCode', 'ParkName', 'State_Abbr', 'Country', 'Latitude',\n",
      "       'Longitude'],\n",
      "      dtype='object')\n",
      "National Park Locations dataset shape: (379, 6)\n",
      "National Park Locations dataset sample:\n",
      "  UnitCode                        ParkName State_Abbr Country   Latitude  \\\n",
      "0     ABLI  Abraham Lincoln Birthplace NHP         KY     USA  37.531540   \n",
      "1     ACAD                       Acadia NP         ME     USA  44.338556   \n",
      "2     ADAM                       Adams NHP         MA     USA  42.239235   \n",
      "3     AFBG        African Burial Ground NM         NY     USA  40.714537   \n",
      "4     AGFO            Agate Fossil Beds NM         NE     USA  42.425210   \n",
      "\n",
      "    Longitude  \n",
      "0  -85.735254  \n",
      "1  -68.273335  \n",
      "2  -71.003528  \n",
      "3  -74.004467  \n",
      "4 -103.734240  \n"
     ]
    }
   ],
   "source": [
    "np_df_loc=pd.read_csv(\"geo_locations.csv\")\n",
    "np_df_loc= np_df_loc.rename(columns={\"State\": \"State_Abbr\"})\n",
    "np_df_loc.reset_index()\n",
    "print(\"List of columns available in National Park Locations dataset:\")\n",
    "print(np_df_loc.columns)\n",
    "\n",
    "print(\"National Park Locations dataset shape:\",np_df_loc.shape)\n",
    "print(\"National Park Locations dataset sample:\")\n",
    "print(np_df_loc.head(5))"
   ]
  },
  {
   "cell_type": "markdown",
   "metadata": {},
   "source": [
    "Read US state full names and abbreviations dataset."
   ]
  },
  {
   "cell_type": "code",
   "execution_count": 7,
   "metadata": {},
   "outputs": [
    {
     "name": "stdout",
     "output_type": "stream",
     "text": [
      "List of columns available in US state abbrevation dataset:\n",
      "Index(['State', 'State_Abbr'], dtype='object')\n",
      "US state abbrevation dataset shape: (50, 2)\n",
      "US state abbrevation dataset sample:          State State_Abbr\n",
      "0     Alabama          AL\n",
      "1      Alaska          AK\n",
      "2     Arizona          AZ\n",
      "3    Arkansas          AR\n",
      "4  California          CA\n"
     ]
    }
   ],
   "source": [
    "us_states_abbr_df=pd.read_csv(\"us_states_abbr.csv\")\n",
    "print(\"List of columns available in US state abbrevation dataset:\")\n",
    "print(us_states_abbr_df.columns)\n",
    "\n",
    "print(\"US state abbrevation dataset shape:\",us_states_abbr_df.shape)\n",
    "print(\"US state abbrevation dataset sample:\",us_states_abbr_df.head(5))\n",
    "\n",
    "#Trim the state_abbr column values\n",
    "us_states_abbr_df.State_Abbr = us_states_abbr_df.State_Abbr.str.strip()\n",
    "us_states_abbr_df=us_states_abbr_df.set_index('State_Abbr')"
   ]
  },
  {
   "cell_type": "markdown",
   "metadata": {},
   "source": [
    "##### Merge both National Park and US state abbreviations dataset to include state full name \n"
   ]
  },
  {
   "cell_type": "code",
   "execution_count": 8,
   "metadata": {},
   "outputs": [
    {
     "data": {
      "text/html": [
       "<div>\n",
       "<style scoped>\n",
       "    .dataframe tbody tr th:only-of-type {\n",
       "        vertical-align: middle;\n",
       "    }\n",
       "\n",
       "    .dataframe tbody tr th {\n",
       "        vertical-align: top;\n",
       "    }\n",
       "\n",
       "    .dataframe thead th {\n",
       "        text-align: right;\n",
       "    }\n",
       "</style>\n",
       "<table border=\"1\" class=\"dataframe\">\n",
       "  <thead>\n",
       "    <tr style=\"text-align: right;\">\n",
       "      <th></th>\n",
       "      <th>Park</th>\n",
       "      <th>UnitCode</th>\n",
       "      <th>ParkType</th>\n",
       "      <th>Region</th>\n",
       "      <th>State_Abbr</th>\n",
       "      <th>Year</th>\n",
       "      <th>Month</th>\n",
       "      <th>RecreationVisits</th>\n",
       "      <th>TentCampers</th>\n",
       "      <th>RVCampers</th>\n",
       "      <th>State</th>\n",
       "    </tr>\n",
       "  </thead>\n",
       "  <tbody>\n",
       "    <tr>\n",
       "      <th>0</th>\n",
       "      <td>Abraham Lincoln Birthplace NHP</td>\n",
       "      <td>ABLI</td>\n",
       "      <td>National Historical Park</td>\n",
       "      <td>Southeast</td>\n",
       "      <td>KY</td>\n",
       "      <td>2008</td>\n",
       "      <td>1</td>\n",
       "      <td>5829</td>\n",
       "      <td>0</td>\n",
       "      <td>0</td>\n",
       "      <td>Kentucky</td>\n",
       "    </tr>\n",
       "    <tr>\n",
       "      <th>1</th>\n",
       "      <td>Abraham Lincoln Birthplace NHP</td>\n",
       "      <td>ABLI</td>\n",
       "      <td>National Historical Park</td>\n",
       "      <td>Southeast</td>\n",
       "      <td>KY</td>\n",
       "      <td>2008</td>\n",
       "      <td>2</td>\n",
       "      <td>6911</td>\n",
       "      <td>0</td>\n",
       "      <td>0</td>\n",
       "      <td>Kentucky</td>\n",
       "    </tr>\n",
       "    <tr>\n",
       "      <th>2</th>\n",
       "      <td>Abraham Lincoln Birthplace NHP</td>\n",
       "      <td>ABLI</td>\n",
       "      <td>National Historical Park</td>\n",
       "      <td>Southeast</td>\n",
       "      <td>KY</td>\n",
       "      <td>2008</td>\n",
       "      <td>3</td>\n",
       "      <td>10720</td>\n",
       "      <td>0</td>\n",
       "      <td>0</td>\n",
       "      <td>Kentucky</td>\n",
       "    </tr>\n",
       "    <tr>\n",
       "      <th>3</th>\n",
       "      <td>Abraham Lincoln Birthplace NHP</td>\n",
       "      <td>ABLI</td>\n",
       "      <td>National Historical Park</td>\n",
       "      <td>Southeast</td>\n",
       "      <td>KY</td>\n",
       "      <td>2008</td>\n",
       "      <td>4</td>\n",
       "      <td>17829</td>\n",
       "      <td>0</td>\n",
       "      <td>0</td>\n",
       "      <td>Kentucky</td>\n",
       "    </tr>\n",
       "    <tr>\n",
       "      <th>4</th>\n",
       "      <td>Abraham Lincoln Birthplace NHP</td>\n",
       "      <td>ABLI</td>\n",
       "      <td>National Historical Park</td>\n",
       "      <td>Southeast</td>\n",
       "      <td>KY</td>\n",
       "      <td>2008</td>\n",
       "      <td>5</td>\n",
       "      <td>26295</td>\n",
       "      <td>0</td>\n",
       "      <td>0</td>\n",
       "      <td>Kentucky</td>\n",
       "    </tr>\n",
       "    <tr>\n",
       "      <th>5</th>\n",
       "      <td>Abraham Lincoln Birthplace NHP</td>\n",
       "      <td>ABLI</td>\n",
       "      <td>National Historical Park</td>\n",
       "      <td>Southeast</td>\n",
       "      <td>KY</td>\n",
       "      <td>2008</td>\n",
       "      <td>6</td>\n",
       "      <td>33817</td>\n",
       "      <td>0</td>\n",
       "      <td>0</td>\n",
       "      <td>Kentucky</td>\n",
       "    </tr>\n",
       "    <tr>\n",
       "      <th>6</th>\n",
       "      <td>Abraham Lincoln Birthplace NHP</td>\n",
       "      <td>ABLI</td>\n",
       "      <td>National Historical Park</td>\n",
       "      <td>Southeast</td>\n",
       "      <td>KY</td>\n",
       "      <td>2008</td>\n",
       "      <td>7</td>\n",
       "      <td>29225</td>\n",
       "      <td>0</td>\n",
       "      <td>0</td>\n",
       "      <td>Kentucky</td>\n",
       "    </tr>\n",
       "    <tr>\n",
       "      <th>7</th>\n",
       "      <td>Abraham Lincoln Birthplace NHP</td>\n",
       "      <td>ABLI</td>\n",
       "      <td>National Historical Park</td>\n",
       "      <td>Southeast</td>\n",
       "      <td>KY</td>\n",
       "      <td>2008</td>\n",
       "      <td>8</td>\n",
       "      <td>22166</td>\n",
       "      <td>0</td>\n",
       "      <td>0</td>\n",
       "      <td>Kentucky</td>\n",
       "    </tr>\n",
       "    <tr>\n",
       "      <th>8</th>\n",
       "      <td>Abraham Lincoln Birthplace NHP</td>\n",
       "      <td>ABLI</td>\n",
       "      <td>National Historical Park</td>\n",
       "      <td>Southeast</td>\n",
       "      <td>KY</td>\n",
       "      <td>2008</td>\n",
       "      <td>9</td>\n",
       "      <td>21765</td>\n",
       "      <td>0</td>\n",
       "      <td>0</td>\n",
       "      <td>Kentucky</td>\n",
       "    </tr>\n",
       "    <tr>\n",
       "      <th>9</th>\n",
       "      <td>Abraham Lincoln Birthplace NHP</td>\n",
       "      <td>ABLI</td>\n",
       "      <td>National Historical Park</td>\n",
       "      <td>Southeast</td>\n",
       "      <td>KY</td>\n",
       "      <td>2008</td>\n",
       "      <td>10</td>\n",
       "      <td>13747</td>\n",
       "      <td>0</td>\n",
       "      <td>0</td>\n",
       "      <td>Kentucky</td>\n",
       "    </tr>\n",
       "  </tbody>\n",
       "</table>\n",
       "</div>"
      ],
      "text/plain": [
       "                             Park UnitCode                  ParkType  \\\n",
       "0  Abraham Lincoln Birthplace NHP     ABLI  National Historical Park   \n",
       "1  Abraham Lincoln Birthplace NHP     ABLI  National Historical Park   \n",
       "2  Abraham Lincoln Birthplace NHP     ABLI  National Historical Park   \n",
       "3  Abraham Lincoln Birthplace NHP     ABLI  National Historical Park   \n",
       "4  Abraham Lincoln Birthplace NHP     ABLI  National Historical Park   \n",
       "5  Abraham Lincoln Birthplace NHP     ABLI  National Historical Park   \n",
       "6  Abraham Lincoln Birthplace NHP     ABLI  National Historical Park   \n",
       "7  Abraham Lincoln Birthplace NHP     ABLI  National Historical Park   \n",
       "8  Abraham Lincoln Birthplace NHP     ABLI  National Historical Park   \n",
       "9  Abraham Lincoln Birthplace NHP     ABLI  National Historical Park   \n",
       "\n",
       "       Region State_Abbr  Year  Month  RecreationVisits  TentCampers  \\\n",
       "0  Southeast          KY  2008      1              5829            0   \n",
       "1  Southeast          KY  2008      2              6911            0   \n",
       "2  Southeast          KY  2008      3             10720            0   \n",
       "3  Southeast          KY  2008      4             17829            0   \n",
       "4  Southeast          KY  2008      5             26295            0   \n",
       "5  Southeast          KY  2008      6             33817            0   \n",
       "6  Southeast          KY  2008      7             29225            0   \n",
       "7  Southeast          KY  2008      8             22166            0   \n",
       "8  Southeast          KY  2008      9             21765            0   \n",
       "9  Southeast          KY  2008     10             13747            0   \n",
       "\n",
       "   RVCampers     State  \n",
       "0          0  Kentucky  \n",
       "1          0  Kentucky  \n",
       "2          0  Kentucky  \n",
       "3          0  Kentucky  \n",
       "4          0  Kentucky  \n",
       "5          0  Kentucky  \n",
       "6          0  Kentucky  \n",
       "7          0  Kentucky  \n",
       "8          0  Kentucky  \n",
       "9          0  Kentucky  "
      ]
     },
     "execution_count": 8,
     "metadata": {},
     "output_type": "execute_result"
    }
   ],
   "source": [
    "np_df_actual=np_df\n",
    "np_df_actual= np_df_actual.rename(columns={\"State\": \"State_Abbr\"})\n",
    "np_df_actual.State_Abbr = np_df_actual.State_Abbr.str.strip()\n",
    "np_df_actual = pd.merge(np_df_actual,us_states_abbr_df, how='left', on='State_Abbr')\n",
    "np_df_actual.State = np_df_actual.State.str.strip()\n",
    "np_df_actual.head(10)\n"
   ]
  },
  {
   "cell_type": "code",
   "execution_count": 9,
   "metadata": {},
   "outputs": [],
   "source": [
    "np_df_loc_short=np_df_loc[[\"UnitCode\",'Latitude',\"Longitude\"]]\n",
    "np_df_final = pd.merge(np_df_actual,np_df_loc_short, how='left', on='UnitCode')\n",
    "np_df_final.head(10)\n",
    "np_df_final.shape\n",
    "np_df_final.to_csv(\"nps_base_data.csv\")"
   ]
  },
  {
   "cell_type": "markdown",
   "metadata": {},
   "source": [
    "## Import Json documents to Mongodb"
   ]
  },
  {
   "cell_type": "code",
   "execution_count": 11,
   "metadata": {},
   "outputs": [],
   "source": [
    "def import_content(json_data):\n",
    "    \n",
    "    client = MongoClient('localhost', 27017)\n",
    "    db = client['US_Parks'] \n",
    "    collection_name = 'US_Park_Visitor'\n",
    "    db_cm = db[collection_name]\n",
    "    if collection_name not in db.list_collection_names():\n",
    "        db_cm.insert_many(json_data)\n",
    "    return db,db_cm\n",
    "\n",
    "def read_csv_to_df(filepath):\n",
    "    file_res = os.path.join(os.getcwd(), filepath)\n",
    "    data = pd.read_csv(file_res)\n",
    "    data_json = json.loads(data.to_json(orient='records'))\n",
    "    return data_json,data\n",
    "\n",
    "if __name__ == \"__main__\":\n",
    "  filepath = 'nps_base_data.csv'  \n",
    "  json_data, data = read_csv_to_df(filepath)\n",
    "  US_Parks_db, US_Parks_collection = import_content(json_data)"
   ]
  },
  {
   "cell_type": "markdown",
   "metadata": {},
   "source": [
    "## Analysis using Mongodb data"
   ]
  },
  {
   "cell_type": "markdown",
   "metadata": {},
   "source": [
    "### Verify one document from the collection"
   ]
  },
  {
   "cell_type": "code",
   "execution_count": 12,
   "metadata": {},
   "outputs": [
    {
     "data": {
      "text/plain": [
       "{'_id': ObjectId('5e9f732c7f107a8522f3d0f1'),\n",
       " 'Unnamed: 0': 0,\n",
       " 'Park': 'Abraham Lincoln Birthplace NHP',\n",
       " 'UnitCode': 'ABLI',\n",
       " 'ParkType': 'National Historical Park',\n",
       " 'Region': 'Southeast ',\n",
       " 'State_Abbr': 'KY',\n",
       " 'Year': 2008,\n",
       " 'Month': 1,\n",
       " 'RecreationVisits': 5829,\n",
       " 'TentCampers': 0,\n",
       " 'RVCampers': 0,\n",
       " 'State': 'Kentucky',\n",
       " 'Latitude': 37.53154,\n",
       " 'Longitude': -85.7352542}"
      ]
     },
     "execution_count": 12,
     "metadata": {},
     "output_type": "execute_result"
    }
   ],
   "source": [
    "US_Parks_collection.find_one()"
   ]
  },
  {
   "cell_type": "markdown",
   "metadata": {},
   "source": [
    "### PyMongo aggregation function to group each park type and visualize the count"
   ]
  },
  {
   "cell_type": "code",
   "execution_count": 13,
   "metadata": {},
   "outputs": [
    {
     "data": {
      "application/vnd.plotly.v1+json": {
       "config": {
        "plotlyServerURL": "https://plot.ly"
       },
       "data": [
        {
         "alignmentgroup": "True",
         "hovertemplate": "Park Type=%{x}<br>count=%{y}<extra></extra>",
         "legendgroup": "",
         "marker": {
          "color": "#636efa"
         },
         "name": "",
         "offsetgroup": "",
         "orientation": "v",
         "showlegend": false,
         "textposition": "auto",
         "type": "bar",
         "x": [
          "National Historic Site",
          "National Monument",
          "National Park",
          "National Historical Park",
          "National Memorial",
          "National Recreation Area",
          "Park (Other)",
          "National Seashore",
          "National Battlefield",
          "National Preserve",
          "National Military Park",
          "National Wild & Scenic River",
          "National River",
          "National Parkway",
          "National Battlefield Park",
          "National Lakeshore",
          "National Reserve",
          "International Historic Site"
         ],
         "xaxis": "x",
         "y": [
          10524,
          9624,
          8928,
          7140,
          4108,
          2448,
          1584,
          1440,
          1440,
          1296,
          1296,
          1008,
          684,
          576,
          540,
          432,
          144,
          84
         ],
         "yaxis": "y"
        }
       ],
       "layout": {
        "barmode": "relative",
        "legend": {
         "tracegroupgap": 0
        },
        "margin": {
         "t": 60
        },
        "template": {
         "data": {
          "bar": [
           {
            "error_x": {
             "color": "#2a3f5f"
            },
            "error_y": {
             "color": "#2a3f5f"
            },
            "marker": {
             "line": {
              "color": "#E5ECF6",
              "width": 0.5
             }
            },
            "type": "bar"
           }
          ],
          "barpolar": [
           {
            "marker": {
             "line": {
              "color": "#E5ECF6",
              "width": 0.5
             }
            },
            "type": "barpolar"
           }
          ],
          "carpet": [
           {
            "aaxis": {
             "endlinecolor": "#2a3f5f",
             "gridcolor": "white",
             "linecolor": "white",
             "minorgridcolor": "white",
             "startlinecolor": "#2a3f5f"
            },
            "baxis": {
             "endlinecolor": "#2a3f5f",
             "gridcolor": "white",
             "linecolor": "white",
             "minorgridcolor": "white",
             "startlinecolor": "#2a3f5f"
            },
            "type": "carpet"
           }
          ],
          "choropleth": [
           {
            "colorbar": {
             "outlinewidth": 0,
             "ticks": ""
            },
            "type": "choropleth"
           }
          ],
          "contour": [
           {
            "colorbar": {
             "outlinewidth": 0,
             "ticks": ""
            },
            "colorscale": [
             [
              0,
              "#0d0887"
             ],
             [
              0.1111111111111111,
              "#46039f"
             ],
             [
              0.2222222222222222,
              "#7201a8"
             ],
             [
              0.3333333333333333,
              "#9c179e"
             ],
             [
              0.4444444444444444,
              "#bd3786"
             ],
             [
              0.5555555555555556,
              "#d8576b"
             ],
             [
              0.6666666666666666,
              "#ed7953"
             ],
             [
              0.7777777777777778,
              "#fb9f3a"
             ],
             [
              0.8888888888888888,
              "#fdca26"
             ],
             [
              1,
              "#f0f921"
             ]
            ],
            "type": "contour"
           }
          ],
          "contourcarpet": [
           {
            "colorbar": {
             "outlinewidth": 0,
             "ticks": ""
            },
            "type": "contourcarpet"
           }
          ],
          "heatmap": [
           {
            "colorbar": {
             "outlinewidth": 0,
             "ticks": ""
            },
            "colorscale": [
             [
              0,
              "#0d0887"
             ],
             [
              0.1111111111111111,
              "#46039f"
             ],
             [
              0.2222222222222222,
              "#7201a8"
             ],
             [
              0.3333333333333333,
              "#9c179e"
             ],
             [
              0.4444444444444444,
              "#bd3786"
             ],
             [
              0.5555555555555556,
              "#d8576b"
             ],
             [
              0.6666666666666666,
              "#ed7953"
             ],
             [
              0.7777777777777778,
              "#fb9f3a"
             ],
             [
              0.8888888888888888,
              "#fdca26"
             ],
             [
              1,
              "#f0f921"
             ]
            ],
            "type": "heatmap"
           }
          ],
          "heatmapgl": [
           {
            "colorbar": {
             "outlinewidth": 0,
             "ticks": ""
            },
            "colorscale": [
             [
              0,
              "#0d0887"
             ],
             [
              0.1111111111111111,
              "#46039f"
             ],
             [
              0.2222222222222222,
              "#7201a8"
             ],
             [
              0.3333333333333333,
              "#9c179e"
             ],
             [
              0.4444444444444444,
              "#bd3786"
             ],
             [
              0.5555555555555556,
              "#d8576b"
             ],
             [
              0.6666666666666666,
              "#ed7953"
             ],
             [
              0.7777777777777778,
              "#fb9f3a"
             ],
             [
              0.8888888888888888,
              "#fdca26"
             ],
             [
              1,
              "#f0f921"
             ]
            ],
            "type": "heatmapgl"
           }
          ],
          "histogram": [
           {
            "marker": {
             "colorbar": {
              "outlinewidth": 0,
              "ticks": ""
             }
            },
            "type": "histogram"
           }
          ],
          "histogram2d": [
           {
            "colorbar": {
             "outlinewidth": 0,
             "ticks": ""
            },
            "colorscale": [
             [
              0,
              "#0d0887"
             ],
             [
              0.1111111111111111,
              "#46039f"
             ],
             [
              0.2222222222222222,
              "#7201a8"
             ],
             [
              0.3333333333333333,
              "#9c179e"
             ],
             [
              0.4444444444444444,
              "#bd3786"
             ],
             [
              0.5555555555555556,
              "#d8576b"
             ],
             [
              0.6666666666666666,
              "#ed7953"
             ],
             [
              0.7777777777777778,
              "#fb9f3a"
             ],
             [
              0.8888888888888888,
              "#fdca26"
             ],
             [
              1,
              "#f0f921"
             ]
            ],
            "type": "histogram2d"
           }
          ],
          "histogram2dcontour": [
           {
            "colorbar": {
             "outlinewidth": 0,
             "ticks": ""
            },
            "colorscale": [
             [
              0,
              "#0d0887"
             ],
             [
              0.1111111111111111,
              "#46039f"
             ],
             [
              0.2222222222222222,
              "#7201a8"
             ],
             [
              0.3333333333333333,
              "#9c179e"
             ],
             [
              0.4444444444444444,
              "#bd3786"
             ],
             [
              0.5555555555555556,
              "#d8576b"
             ],
             [
              0.6666666666666666,
              "#ed7953"
             ],
             [
              0.7777777777777778,
              "#fb9f3a"
             ],
             [
              0.8888888888888888,
              "#fdca26"
             ],
             [
              1,
              "#f0f921"
             ]
            ],
            "type": "histogram2dcontour"
           }
          ],
          "mesh3d": [
           {
            "colorbar": {
             "outlinewidth": 0,
             "ticks": ""
            },
            "type": "mesh3d"
           }
          ],
          "parcoords": [
           {
            "line": {
             "colorbar": {
              "outlinewidth": 0,
              "ticks": ""
             }
            },
            "type": "parcoords"
           }
          ],
          "pie": [
           {
            "automargin": true,
            "type": "pie"
           }
          ],
          "scatter": [
           {
            "marker": {
             "colorbar": {
              "outlinewidth": 0,
              "ticks": ""
             }
            },
            "type": "scatter"
           }
          ],
          "scatter3d": [
           {
            "line": {
             "colorbar": {
              "outlinewidth": 0,
              "ticks": ""
             }
            },
            "marker": {
             "colorbar": {
              "outlinewidth": 0,
              "ticks": ""
             }
            },
            "type": "scatter3d"
           }
          ],
          "scattercarpet": [
           {
            "marker": {
             "colorbar": {
              "outlinewidth": 0,
              "ticks": ""
             }
            },
            "type": "scattercarpet"
           }
          ],
          "scattergeo": [
           {
            "marker": {
             "colorbar": {
              "outlinewidth": 0,
              "ticks": ""
             }
            },
            "type": "scattergeo"
           }
          ],
          "scattergl": [
           {
            "marker": {
             "colorbar": {
              "outlinewidth": 0,
              "ticks": ""
             }
            },
            "type": "scattergl"
           }
          ],
          "scattermapbox": [
           {
            "marker": {
             "colorbar": {
              "outlinewidth": 0,
              "ticks": ""
             }
            },
            "type": "scattermapbox"
           }
          ],
          "scatterpolar": [
           {
            "marker": {
             "colorbar": {
              "outlinewidth": 0,
              "ticks": ""
             }
            },
            "type": "scatterpolar"
           }
          ],
          "scatterpolargl": [
           {
            "marker": {
             "colorbar": {
              "outlinewidth": 0,
              "ticks": ""
             }
            },
            "type": "scatterpolargl"
           }
          ],
          "scatterternary": [
           {
            "marker": {
             "colorbar": {
              "outlinewidth": 0,
              "ticks": ""
             }
            },
            "type": "scatterternary"
           }
          ],
          "surface": [
           {
            "colorbar": {
             "outlinewidth": 0,
             "ticks": ""
            },
            "colorscale": [
             [
              0,
              "#0d0887"
             ],
             [
              0.1111111111111111,
              "#46039f"
             ],
             [
              0.2222222222222222,
              "#7201a8"
             ],
             [
              0.3333333333333333,
              "#9c179e"
             ],
             [
              0.4444444444444444,
              "#bd3786"
             ],
             [
              0.5555555555555556,
              "#d8576b"
             ],
             [
              0.6666666666666666,
              "#ed7953"
             ],
             [
              0.7777777777777778,
              "#fb9f3a"
             ],
             [
              0.8888888888888888,
              "#fdca26"
             ],
             [
              1,
              "#f0f921"
             ]
            ],
            "type": "surface"
           }
          ],
          "table": [
           {
            "cells": {
             "fill": {
              "color": "#EBF0F8"
             },
             "line": {
              "color": "white"
             }
            },
            "header": {
             "fill": {
              "color": "#C8D4E3"
             },
             "line": {
              "color": "white"
             }
            },
            "type": "table"
           }
          ]
         },
         "layout": {
          "annotationdefaults": {
           "arrowcolor": "#2a3f5f",
           "arrowhead": 0,
           "arrowwidth": 1
          },
          "coloraxis": {
           "colorbar": {
            "outlinewidth": 0,
            "ticks": ""
           }
          },
          "colorscale": {
           "diverging": [
            [
             0,
             "#8e0152"
            ],
            [
             0.1,
             "#c51b7d"
            ],
            [
             0.2,
             "#de77ae"
            ],
            [
             0.3,
             "#f1b6da"
            ],
            [
             0.4,
             "#fde0ef"
            ],
            [
             0.5,
             "#f7f7f7"
            ],
            [
             0.6,
             "#e6f5d0"
            ],
            [
             0.7,
             "#b8e186"
            ],
            [
             0.8,
             "#7fbc41"
            ],
            [
             0.9,
             "#4d9221"
            ],
            [
             1,
             "#276419"
            ]
           ],
           "sequential": [
            [
             0,
             "#0d0887"
            ],
            [
             0.1111111111111111,
             "#46039f"
            ],
            [
             0.2222222222222222,
             "#7201a8"
            ],
            [
             0.3333333333333333,
             "#9c179e"
            ],
            [
             0.4444444444444444,
             "#bd3786"
            ],
            [
             0.5555555555555556,
             "#d8576b"
            ],
            [
             0.6666666666666666,
             "#ed7953"
            ],
            [
             0.7777777777777778,
             "#fb9f3a"
            ],
            [
             0.8888888888888888,
             "#fdca26"
            ],
            [
             1,
             "#f0f921"
            ]
           ],
           "sequentialminus": [
            [
             0,
             "#0d0887"
            ],
            [
             0.1111111111111111,
             "#46039f"
            ],
            [
             0.2222222222222222,
             "#7201a8"
            ],
            [
             0.3333333333333333,
             "#9c179e"
            ],
            [
             0.4444444444444444,
             "#bd3786"
            ],
            [
             0.5555555555555556,
             "#d8576b"
            ],
            [
             0.6666666666666666,
             "#ed7953"
            ],
            [
             0.7777777777777778,
             "#fb9f3a"
            ],
            [
             0.8888888888888888,
             "#fdca26"
            ],
            [
             1,
             "#f0f921"
            ]
           ]
          },
          "colorway": [
           "#636efa",
           "#EF553B",
           "#00cc96",
           "#ab63fa",
           "#FFA15A",
           "#19d3f3",
           "#FF6692",
           "#B6E880",
           "#FF97FF",
           "#FECB52"
          ],
          "font": {
           "color": "#2a3f5f"
          },
          "geo": {
           "bgcolor": "white",
           "lakecolor": "white",
           "landcolor": "#E5ECF6",
           "showlakes": true,
           "showland": true,
           "subunitcolor": "white"
          },
          "hoverlabel": {
           "align": "left"
          },
          "hovermode": "closest",
          "mapbox": {
           "style": "light"
          },
          "paper_bgcolor": "white",
          "plot_bgcolor": "#E5ECF6",
          "polar": {
           "angularaxis": {
            "gridcolor": "white",
            "linecolor": "white",
            "ticks": ""
           },
           "bgcolor": "#E5ECF6",
           "radialaxis": {
            "gridcolor": "white",
            "linecolor": "white",
            "ticks": ""
           }
          },
          "scene": {
           "xaxis": {
            "backgroundcolor": "#E5ECF6",
            "gridcolor": "white",
            "gridwidth": 2,
            "linecolor": "white",
            "showbackground": true,
            "ticks": "",
            "zerolinecolor": "white"
           },
           "yaxis": {
            "backgroundcolor": "#E5ECF6",
            "gridcolor": "white",
            "gridwidth": 2,
            "linecolor": "white",
            "showbackground": true,
            "ticks": "",
            "zerolinecolor": "white"
           },
           "zaxis": {
            "backgroundcolor": "#E5ECF6",
            "gridcolor": "white",
            "gridwidth": 2,
            "linecolor": "white",
            "showbackground": true,
            "ticks": "",
            "zerolinecolor": "white"
           }
          },
          "shapedefaults": {
           "line": {
            "color": "#2a3f5f"
           }
          },
          "ternary": {
           "aaxis": {
            "gridcolor": "white",
            "linecolor": "white",
            "ticks": ""
           },
           "baxis": {
            "gridcolor": "white",
            "linecolor": "white",
            "ticks": ""
           },
           "bgcolor": "#E5ECF6",
           "caxis": {
            "gridcolor": "white",
            "linecolor": "white",
            "ticks": ""
           }
          },
          "title": {
           "x": 0.05
          },
          "xaxis": {
           "automargin": true,
           "gridcolor": "white",
           "linecolor": "white",
           "ticks": "",
           "title": {
            "standoff": 15
           },
           "zerolinecolor": "white",
           "zerolinewidth": 2
          },
          "yaxis": {
           "automargin": true,
           "gridcolor": "white",
           "linecolor": "white",
           "ticks": "",
           "title": {
            "standoff": 15
           },
           "zerolinecolor": "white",
           "zerolinewidth": 2
          }
         }
        },
        "xaxis": {
         "anchor": "y",
         "domain": [
          0,
          1
         ],
         "title": {
          "text": "Park Type"
         }
        },
        "yaxis": {
         "anchor": "x",
         "domain": [
          0,
          1
         ],
         "title": {
          "text": "count"
         }
        }
       }
      },
      "text/html": [
       "<div>\n",
       "        \n",
       "        \n",
       "            <div id=\"916736c7-ef4d-471e-8c50-aced547ab40f\" class=\"plotly-graph-div\" style=\"height:525px; width:100%;\"></div>\n",
       "            <script type=\"text/javascript\">\n",
       "                require([\"plotly\"], function(Plotly) {\n",
       "                    window.PLOTLYENV=window.PLOTLYENV || {};\n",
       "                    \n",
       "                if (document.getElementById(\"916736c7-ef4d-471e-8c50-aced547ab40f\")) {\n",
       "                    Plotly.newPlot(\n",
       "                        '916736c7-ef4d-471e-8c50-aced547ab40f',\n",
       "                        [{\"alignmentgroup\": \"True\", \"hovertemplate\": \"Park Type=%{x}<br>count=%{y}<extra></extra>\", \"legendgroup\": \"\", \"marker\": {\"color\": \"#636efa\"}, \"name\": \"\", \"offsetgroup\": \"\", \"orientation\": \"v\", \"showlegend\": false, \"textposition\": \"auto\", \"type\": \"bar\", \"x\": [\"National Historic Site\", \"National Monument\", \"National Park\", \"National Historical Park\", \"National Memorial\", \"National Recreation Area\", \"Park (Other)\", \"National Seashore\", \"National Battlefield\", \"National Preserve\", \"National Military Park\", \"National Wild & Scenic River\", \"National River\", \"National Parkway\", \"National Battlefield Park\", \"National Lakeshore\", \"National Reserve\", \"International Historic Site\"], \"xaxis\": \"x\", \"y\": [10524, 9624, 8928, 7140, 4108, 2448, 1584, 1440, 1440, 1296, 1296, 1008, 684, 576, 540, 432, 144, 84], \"yaxis\": \"y\"}],\n",
       "                        {\"barmode\": \"relative\", \"legend\": {\"tracegroupgap\": 0}, \"margin\": {\"t\": 60}, \"template\": {\"data\": {\"bar\": [{\"error_x\": {\"color\": \"#2a3f5f\"}, \"error_y\": {\"color\": \"#2a3f5f\"}, \"marker\": {\"line\": {\"color\": \"#E5ECF6\", \"width\": 0.5}}, \"type\": \"bar\"}], \"barpolar\": [{\"marker\": {\"line\": {\"color\": \"#E5ECF6\", \"width\": 0.5}}, \"type\": \"barpolar\"}], \"carpet\": [{\"aaxis\": {\"endlinecolor\": \"#2a3f5f\", \"gridcolor\": \"white\", \"linecolor\": \"white\", \"minorgridcolor\": \"white\", \"startlinecolor\": \"#2a3f5f\"}, \"baxis\": {\"endlinecolor\": \"#2a3f5f\", \"gridcolor\": \"white\", \"linecolor\": \"white\", \"minorgridcolor\": \"white\", \"startlinecolor\": \"#2a3f5f\"}, \"type\": \"carpet\"}], \"choropleth\": [{\"colorbar\": {\"outlinewidth\": 0, \"ticks\": \"\"}, \"type\": \"choropleth\"}], \"contour\": [{\"colorbar\": {\"outlinewidth\": 0, \"ticks\": \"\"}, \"colorscale\": [[0.0, \"#0d0887\"], [0.1111111111111111, \"#46039f\"], [0.2222222222222222, \"#7201a8\"], [0.3333333333333333, \"#9c179e\"], [0.4444444444444444, \"#bd3786\"], [0.5555555555555556, \"#d8576b\"], [0.6666666666666666, \"#ed7953\"], [0.7777777777777778, \"#fb9f3a\"], [0.8888888888888888, \"#fdca26\"], [1.0, \"#f0f921\"]], \"type\": \"contour\"}], \"contourcarpet\": [{\"colorbar\": {\"outlinewidth\": 0, \"ticks\": \"\"}, \"type\": \"contourcarpet\"}], \"heatmap\": [{\"colorbar\": {\"outlinewidth\": 0, \"ticks\": \"\"}, \"colorscale\": [[0.0, \"#0d0887\"], [0.1111111111111111, \"#46039f\"], [0.2222222222222222, \"#7201a8\"], [0.3333333333333333, \"#9c179e\"], [0.4444444444444444, \"#bd3786\"], [0.5555555555555556, \"#d8576b\"], [0.6666666666666666, \"#ed7953\"], [0.7777777777777778, \"#fb9f3a\"], [0.8888888888888888, \"#fdca26\"], [1.0, \"#f0f921\"]], \"type\": \"heatmap\"}], \"heatmapgl\": [{\"colorbar\": {\"outlinewidth\": 0, \"ticks\": \"\"}, \"colorscale\": [[0.0, \"#0d0887\"], [0.1111111111111111, \"#46039f\"], [0.2222222222222222, \"#7201a8\"], [0.3333333333333333, \"#9c179e\"], [0.4444444444444444, \"#bd3786\"], [0.5555555555555556, \"#d8576b\"], [0.6666666666666666, \"#ed7953\"], [0.7777777777777778, \"#fb9f3a\"], [0.8888888888888888, \"#fdca26\"], [1.0, \"#f0f921\"]], \"type\": \"heatmapgl\"}], \"histogram\": [{\"marker\": {\"colorbar\": {\"outlinewidth\": 0, \"ticks\": \"\"}}, \"type\": \"histogram\"}], \"histogram2d\": [{\"colorbar\": {\"outlinewidth\": 0, \"ticks\": \"\"}, \"colorscale\": [[0.0, \"#0d0887\"], [0.1111111111111111, \"#46039f\"], [0.2222222222222222, \"#7201a8\"], [0.3333333333333333, \"#9c179e\"], [0.4444444444444444, \"#bd3786\"], [0.5555555555555556, \"#d8576b\"], [0.6666666666666666, \"#ed7953\"], [0.7777777777777778, \"#fb9f3a\"], [0.8888888888888888, \"#fdca26\"], [1.0, \"#f0f921\"]], \"type\": \"histogram2d\"}], \"histogram2dcontour\": [{\"colorbar\": {\"outlinewidth\": 0, \"ticks\": \"\"}, \"colorscale\": [[0.0, \"#0d0887\"], [0.1111111111111111, \"#46039f\"], [0.2222222222222222, \"#7201a8\"], [0.3333333333333333, \"#9c179e\"], [0.4444444444444444, \"#bd3786\"], [0.5555555555555556, \"#d8576b\"], [0.6666666666666666, \"#ed7953\"], [0.7777777777777778, \"#fb9f3a\"], [0.8888888888888888, \"#fdca26\"], [1.0, \"#f0f921\"]], \"type\": \"histogram2dcontour\"}], \"mesh3d\": [{\"colorbar\": {\"outlinewidth\": 0, \"ticks\": \"\"}, \"type\": \"mesh3d\"}], \"parcoords\": [{\"line\": {\"colorbar\": {\"outlinewidth\": 0, \"ticks\": \"\"}}, \"type\": \"parcoords\"}], \"pie\": [{\"automargin\": true, \"type\": \"pie\"}], \"scatter\": [{\"marker\": {\"colorbar\": {\"outlinewidth\": 0, \"ticks\": \"\"}}, \"type\": \"scatter\"}], \"scatter3d\": [{\"line\": {\"colorbar\": {\"outlinewidth\": 0, \"ticks\": \"\"}}, \"marker\": {\"colorbar\": {\"outlinewidth\": 0, \"ticks\": \"\"}}, \"type\": \"scatter3d\"}], \"scattercarpet\": [{\"marker\": {\"colorbar\": {\"outlinewidth\": 0, \"ticks\": \"\"}}, \"type\": \"scattercarpet\"}], \"scattergeo\": [{\"marker\": {\"colorbar\": {\"outlinewidth\": 0, \"ticks\": \"\"}}, \"type\": \"scattergeo\"}], \"scattergl\": [{\"marker\": {\"colorbar\": {\"outlinewidth\": 0, \"ticks\": \"\"}}, \"type\": \"scattergl\"}], \"scattermapbox\": [{\"marker\": {\"colorbar\": {\"outlinewidth\": 0, \"ticks\": \"\"}}, \"type\": \"scattermapbox\"}], \"scatterpolar\": [{\"marker\": {\"colorbar\": {\"outlinewidth\": 0, \"ticks\": \"\"}}, \"type\": \"scatterpolar\"}], \"scatterpolargl\": [{\"marker\": {\"colorbar\": {\"outlinewidth\": 0, \"ticks\": \"\"}}, \"type\": \"scatterpolargl\"}], \"scatterternary\": [{\"marker\": {\"colorbar\": {\"outlinewidth\": 0, \"ticks\": \"\"}}, \"type\": \"scatterternary\"}], \"surface\": [{\"colorbar\": {\"outlinewidth\": 0, \"ticks\": \"\"}, \"colorscale\": [[0.0, \"#0d0887\"], [0.1111111111111111, \"#46039f\"], [0.2222222222222222, \"#7201a8\"], [0.3333333333333333, \"#9c179e\"], [0.4444444444444444, \"#bd3786\"], [0.5555555555555556, \"#d8576b\"], [0.6666666666666666, \"#ed7953\"], [0.7777777777777778, \"#fb9f3a\"], [0.8888888888888888, \"#fdca26\"], [1.0, \"#f0f921\"]], \"type\": \"surface\"}], \"table\": [{\"cells\": {\"fill\": {\"color\": \"#EBF0F8\"}, \"line\": {\"color\": \"white\"}}, \"header\": {\"fill\": {\"color\": \"#C8D4E3\"}, \"line\": {\"color\": \"white\"}}, \"type\": \"table\"}]}, \"layout\": {\"annotationdefaults\": {\"arrowcolor\": \"#2a3f5f\", \"arrowhead\": 0, \"arrowwidth\": 1}, \"coloraxis\": {\"colorbar\": {\"outlinewidth\": 0, \"ticks\": \"\"}}, \"colorscale\": {\"diverging\": [[0, \"#8e0152\"], [0.1, \"#c51b7d\"], [0.2, \"#de77ae\"], [0.3, \"#f1b6da\"], [0.4, \"#fde0ef\"], [0.5, \"#f7f7f7\"], [0.6, \"#e6f5d0\"], [0.7, \"#b8e186\"], [0.8, \"#7fbc41\"], [0.9, \"#4d9221\"], [1, \"#276419\"]], \"sequential\": [[0.0, \"#0d0887\"], [0.1111111111111111, \"#46039f\"], [0.2222222222222222, \"#7201a8\"], [0.3333333333333333, \"#9c179e\"], [0.4444444444444444, \"#bd3786\"], [0.5555555555555556, \"#d8576b\"], [0.6666666666666666, \"#ed7953\"], [0.7777777777777778, \"#fb9f3a\"], [0.8888888888888888, \"#fdca26\"], [1.0, \"#f0f921\"]], \"sequentialminus\": [[0.0, \"#0d0887\"], [0.1111111111111111, \"#46039f\"], [0.2222222222222222, \"#7201a8\"], [0.3333333333333333, \"#9c179e\"], [0.4444444444444444, \"#bd3786\"], [0.5555555555555556, \"#d8576b\"], [0.6666666666666666, \"#ed7953\"], [0.7777777777777778, \"#fb9f3a\"], [0.8888888888888888, \"#fdca26\"], [1.0, \"#f0f921\"]]}, \"colorway\": [\"#636efa\", \"#EF553B\", \"#00cc96\", \"#ab63fa\", \"#FFA15A\", \"#19d3f3\", \"#FF6692\", \"#B6E880\", \"#FF97FF\", \"#FECB52\"], \"font\": {\"color\": \"#2a3f5f\"}, \"geo\": {\"bgcolor\": \"white\", \"lakecolor\": \"white\", \"landcolor\": \"#E5ECF6\", \"showlakes\": true, \"showland\": true, \"subunitcolor\": \"white\"}, \"hoverlabel\": {\"align\": \"left\"}, \"hovermode\": \"closest\", \"mapbox\": {\"style\": \"light\"}, \"paper_bgcolor\": \"white\", \"plot_bgcolor\": \"#E5ECF6\", \"polar\": {\"angularaxis\": {\"gridcolor\": \"white\", \"linecolor\": \"white\", \"ticks\": \"\"}, \"bgcolor\": \"#E5ECF6\", \"radialaxis\": {\"gridcolor\": \"white\", \"linecolor\": \"white\", \"ticks\": \"\"}}, \"scene\": {\"xaxis\": {\"backgroundcolor\": \"#E5ECF6\", \"gridcolor\": \"white\", \"gridwidth\": 2, \"linecolor\": \"white\", \"showbackground\": true, \"ticks\": \"\", \"zerolinecolor\": \"white\"}, \"yaxis\": {\"backgroundcolor\": \"#E5ECF6\", \"gridcolor\": \"white\", \"gridwidth\": 2, \"linecolor\": \"white\", \"showbackground\": true, \"ticks\": \"\", \"zerolinecolor\": \"white\"}, \"zaxis\": {\"backgroundcolor\": \"#E5ECF6\", \"gridcolor\": \"white\", \"gridwidth\": 2, \"linecolor\": \"white\", \"showbackground\": true, \"ticks\": \"\", \"zerolinecolor\": \"white\"}}, \"shapedefaults\": {\"line\": {\"color\": \"#2a3f5f\"}}, \"ternary\": {\"aaxis\": {\"gridcolor\": \"white\", \"linecolor\": \"white\", \"ticks\": \"\"}, \"baxis\": {\"gridcolor\": \"white\", \"linecolor\": \"white\", \"ticks\": \"\"}, \"bgcolor\": \"#E5ECF6\", \"caxis\": {\"gridcolor\": \"white\", \"linecolor\": \"white\", \"ticks\": \"\"}}, \"title\": {\"x\": 0.05}, \"xaxis\": {\"automargin\": true, \"gridcolor\": \"white\", \"linecolor\": \"white\", \"ticks\": \"\", \"title\": {\"standoff\": 15}, \"zerolinecolor\": \"white\", \"zerolinewidth\": 2}, \"yaxis\": {\"automargin\": true, \"gridcolor\": \"white\", \"linecolor\": \"white\", \"ticks\": \"\", \"title\": {\"standoff\": 15}, \"zerolinecolor\": \"white\", \"zerolinewidth\": 2}}}, \"xaxis\": {\"anchor\": \"y\", \"domain\": [0.0, 1.0], \"title\": {\"text\": \"Park Type\"}}, \"yaxis\": {\"anchor\": \"x\", \"domain\": [0.0, 1.0], \"title\": {\"text\": \"count\"}}},\n",
       "                        {\"responsive\": true}\n",
       "                    ).then(function(){\n",
       "                            \n",
       "var gd = document.getElementById('916736c7-ef4d-471e-8c50-aced547ab40f');\n",
       "var x = new MutationObserver(function (mutations, observer) {{\n",
       "        var display = window.getComputedStyle(gd).display;\n",
       "        if (!display || display === 'none') {{\n",
       "            console.log([gd, 'removed!']);\n",
       "            Plotly.purge(gd);\n",
       "            observer.disconnect();\n",
       "        }}\n",
       "}});\n",
       "\n",
       "// Listen for the removal of the full notebook cells\n",
       "var notebookContainer = gd.closest('#notebook-container');\n",
       "if (notebookContainer) {{\n",
       "    x.observe(notebookContainer, {childList: true});\n",
       "}}\n",
       "\n",
       "// Listen for the clearing of the current output cell\n",
       "var outputEl = gd.closest('.output');\n",
       "if (outputEl) {{\n",
       "    x.observe(outputEl, {childList: true});\n",
       "}}\n",
       "\n",
       "                        })\n",
       "                };\n",
       "                });\n",
       "            </script>\n",
       "        </div>"
      ]
     },
     "metadata": {},
     "output_type": "display_data"
    }
   ],
   "source": [
    "pipeline = [\n",
    "             {\"$unwind\": \"$ParkType\"},\n",
    "             {\"$group\": {\"_id\": \"$ParkType\", \"count\": {\"$sum\": 1}}},\n",
    "             {\"$sort\": SON([(\"count\", -1), (\"_id\", -1)])}\n",
    "           ]\n",
    "y = pd.DataFrame(list(US_Parks_collection.aggregate(pipeline)))    \n",
    "y = y.rename(columns={\"_id\": \"Park Type\"})\n",
    "fig = px.bar(y, x='Park Type', y='count')\n",
    "fig.show()"
   ]
  },
  {
   "cell_type": "markdown",
   "metadata": {},
   "source": [
    "### PyMongo aggregation function to group each park type and visualize coutrywide spread on scatter plot"
   ]
  },
  {
   "cell_type": "code",
   "execution_count": 14,
   "metadata": {},
   "outputs": [],
   "source": [
    "def sactter_plot_US(data):\n",
    "    data['text'] = data['_id']+ ''+data['count'].astype(str)\n",
    "    fig = go.Figure(data=go.Scattergeo(\n",
    "            locationmode = 'USA-states', \n",
    "            lon = data['Longitude'],\n",
    "            lat = data['Latitude'],\n",
    "            text = data['text'],\n",
    "            mode = 'markers',\n",
    "            marker = dict(\n",
    "                            size = 8,\n",
    "                            opacity = 0.99,\n",
    "                            reversescale = True,\n",
    "                            autocolorscale = False,\n",
    "                            symbol = 'square',\n",
    "                            line = dict(\n",
    "                                width=1,\n",
    "                                color='rgba(102, 102, 102)'\n",
    "                    ),\n",
    "            colorscale = px.colors.sequential.Inferno,\n",
    "            cmin = 0,\n",
    "            color = data['count'],\n",
    "            cmax = data['count'].max(),\n",
    "            colorbar_title=\"Count of recreational, RV and Campers visits\"\n",
    "            )))\n",
    "\n",
    "    fig.update_layout(\n",
    "        title = 'Spread of different park types across US)',\n",
    "        geo = dict(\n",
    "            scope='usa',\n",
    "            projection_type='albers usa',\n",
    "            showland = True,\n",
    "            landcolor = \"rgb(250, 250, 250)\",\n",
    "            subunitcolor = \"rgb(217, 217, 217)\",\n",
    "            countrycolor = \"rgb(217, 217, 217)\",\n",
    "            countrywidth = 0.5,\n",
    "            subunitwidth = 0.5\n",
    "              ),\n",
    "    )\n",
    "      \n",
    "    fig.show()"
   ]
  },
  {
   "cell_type": "code",
   "execution_count": 15,
   "metadata": {},
   "outputs": [],
   "source": [
    "def scatter_plot(parktype):\n",
    "    x = pd.DataFrame(list(US_Parks_collection.aggregate( [\n",
    "                                        {\"$match\":{'ParkType':parktype}},\n",
    "                                        {\"$group\":{\n",
    "                                                   \"_id\":\"$Park\",\n",
    "                                                   \"count\": { \"$sum\": { \"$add\" : [ \n",
    "                                            '$RecreationVisits', '$TentCampers','$RVCampers']}},\n",
    "                                        }},\n",
    "                                        {\"$sort\":{\"_id\":1}}\n",
    "                                     ]\n",
    "                                        )))\n",
    "    lat_long = pd.DataFrame(list(US_Parks_collection.find(\n",
    "                                            {'ParkType':'National Historical Park'},\n",
    "                                            {\"_id\":0,\"Latitude\":1,\"Longitude\":1})\n",
    "                                 )).drop_duplicates().reset_index(drop=True)\n",
    "    x['Latitude'] = lat_long['Latitude']\n",
    "    x['Longitude'] = lat_long['Longitude']\n",
    "    \n",
    "    sactter_plot_US(x)"
   ]
  },
  {
   "cell_type": "code",
   "execution_count": 16,
   "metadata": {},
   "outputs": [
    {
     "data": {
      "application/vnd.jupyter.widget-view+json": {
       "model_id": "608608ec5f7a43da98bec3f840088915",
       "version_major": 2,
       "version_minor": 0
      },
      "text/plain": [
       "interactive(children=(Dropdown(description='parktype', options=('National Historical Park', 'National Park', '…"
      ]
     },
     "metadata": {},
     "output_type": "display_data"
    }
   ],
   "source": [
    "interact(scatter_plot, parktype=data.ParkType.unique());"
   ]
  },
  {
   "cell_type": "markdown",
   "metadata": {},
   "source": [
    "### Pymongo Visualize the number of RecreationVisits, Tent campers and RV campers"
   ]
  },
  {
   "cell_type": "code",
   "execution_count": 23,
   "metadata": {},
   "outputs": [],
   "source": [
    "def plot_aggregate_metrics(df):\n",
    "    \n",
    "    fig = go.Figure()\n",
    "    fig.update_layout(template='plotly_dark')\n",
    "\n",
    "    fig.add_trace(go.Scatter(x=df['Month'], \n",
    "                             y=df['RecreationVisits'],\n",
    "                             mode='markers',\n",
    "                             name='RecreationVisits',\n",
    "                             line=dict(color='Yellow', width=2)\n",
    "                            ))\n",
    "    fig.add_trace(go.Scatter(x=df['Month'], \n",
    "                             y=df['TentCampers'],\n",
    "                             mode='markers',\n",
    "                             name='TentCampers',\n",
    "                             line=dict(color='Red', width=2)\n",
    "                            ))\n",
    "    fig.add_trace(go.Scatter(x=df['Month'], \n",
    "                             y=df['RVCampers'],\n",
    "                             mode='markers',\n",
    "                             name='RVCampers',\n",
    "                             line=dict(color='Green', width=2)\n",
    "                            ))\n",
    "    fig.update_layout(title='Monthly count of visitors in each category')\n",
    "    fig.update_yaxes(title_text='Count of visitors')\n",
    "    fig.update_xaxes(title_text='Month from January to December')\n",
    "\n",
    "    return fig"
   ]
  },
  {
   "cell_type": "code",
   "execution_count": 24,
   "metadata": {},
   "outputs": [],
   "source": [
    "def plot_scatter(park,year):\n",
    "    data = pd.DataFrame(list(US_Parks_collection.find({\"$and\":[{'Park':park},{'Year':year.item()}]})))\n",
    "    return plot_aggregate_metrics(data)"
   ]
  },
  {
   "cell_type": "code",
   "execution_count": 25,
   "metadata": {},
   "outputs": [
    {
     "data": {
      "application/vnd.jupyter.widget-view+json": {
       "model_id": "89a955f1b5df413c965bd0fadfc3917c",
       "version_major": 2,
       "version_minor": 0
      },
      "text/plain": [
       "interactive(children=(Dropdown(description='park', options=('Abraham Lincoln Birthplace NHP', 'Acadia NP', 'Ad…"
      ]
     },
     "metadata": {},
     "output_type": "display_data"
    }
   ],
   "source": [
    "interact(plot_scatter, park=data.Park.unique(),year=data.Year.unique());"
   ]
  },
  {
   "cell_type": "markdown",
   "metadata": {},
   "source": [
    "### Pymongo Visualize the number of RecreationVisits, Tent campers and RV campers on 10 year average"
   ]
  },
  {
   "cell_type": "code",
   "execution_count": 34,
   "metadata": {},
   "outputs": [],
   "source": [
    "def plot_line(park):\n",
    "    recreation = pd.DataFrame(list(US_Parks_collection.aggregate( [\n",
    "                                        {\"$match\":{'Park':park}},\n",
    "                                        {\n",
    "                                            \"$group\":{\"_id\":\"$Month\",\n",
    "                                                      \"Count\":{\"$sum\":\"$RecreationVisits\"},\n",
    "                                                     }\n",
    "                                        },\n",
    "                                        {\"$sort\":{\"_id\":1}}\n",
    "                                     ]\n",
    "                                        )))\n",
    "    campers = pd.DataFrame(list(US_Parks_collection.aggregate( [\n",
    "                                        {\"$match\":{'Park':park}},\n",
    "                                        {\n",
    "                                            \"$group\":{\"_id\":\"$Month\",\n",
    "                                                      \"Count\":{\"$sum\":\"$TentCampers\"},\n",
    "                                                     }\n",
    "                                        },\n",
    "                                        {\"$sort\":{\"_id\":1}}\n",
    "                                     ]\n",
    "                                        )))\n",
    "    rvcampers = pd.DataFrame(list(US_Parks_collection.aggregate( [\n",
    "                                        {\"$match\":{'Park':park}},\n",
    "                                        {\n",
    "                                            \"$group\":{\"_id\":\"$Month\",\n",
    "                                                      \"Count\":{\"$sum\":\"$RVCampers\"},\n",
    "                                                     }\n",
    "                                        },\n",
    "                                        {\"$sort\":{\"_id\":1}}\n",
    "                                     ]\n",
    "                                        )))\n",
    "\n",
    "\n",
    "    \n",
    "    recreation['Type'] = 'RecreationVisits'\n",
    "    campers['Type'] = 'TentCampers'\n",
    "    rvcampers['Type'] = 'RVCampers'\n",
    "    \n",
    "\n",
    "    result = pd.concat([recreation, campers, rvcampers],axis=0)\n",
    "    \n",
    "    fig = px.line(result, x='_id', y='Count',color='Type', line_group=\"Type\", hover_name=\"Type\")\n",
    "    \n",
    "    fig.update_layout(title='Monthly average count of visitors for past 10 years', template='plotly_dark',showlegend=True, )\n",
    "    \n",
    "    fig.update_xaxes(title_text='Months from January to December')\n",
    "    fig.update_yaxes(title_text='Average 10 year count of visitors')\n",
    "    fig.show()"
   ]
  },
  {
   "cell_type": "code",
   "execution_count": 35,
   "metadata": {},
   "outputs": [
    {
     "data": {
      "application/vnd.jupyter.widget-view+json": {
       "model_id": "f199ff1b1bb24619a4eadabc99e5a95e",
       "version_major": 2,
       "version_minor": 0
      },
      "text/plain": [
       "interactive(children=(Dropdown(description='park', options=('Abraham Lincoln Birthplace NHP', 'Acadia NP', 'Ad…"
      ]
     },
     "metadata": {},
     "output_type": "display_data"
    }
   ],
   "source": [
    "interact(plot_line, park=data.Park.unique());"
   ]
  },
  {
   "cell_type": "code",
   "execution_count": null,
   "metadata": {},
   "outputs": [],
   "source": []
  }
 ],
 "metadata": {
  "kernelspec": {
   "display_name": "Python 3",
   "language": "python",
   "name": "python3"
  },
  "language_info": {
   "codemirror_mode": {
    "name": "ipython",
    "version": 3
   },
   "file_extension": ".py",
   "mimetype": "text/x-python",
   "name": "python",
   "nbconvert_exporter": "python",
   "pygments_lexer": "ipython3",
   "version": "3.7.3"
  },
  "toc": {
   "base_numbering": 1,
   "nav_menu": {},
   "number_sections": true,
   "sideBar": true,
   "skip_h1_title": false,
   "title_cell": "Table of Contents",
   "title_sidebar": "Contents",
   "toc_cell": false,
   "toc_position": {},
   "toc_section_display": true,
   "toc_window_display": false
  }
 },
 "nbformat": 4,
 "nbformat_minor": 4
}
