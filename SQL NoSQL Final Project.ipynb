{
 "cells": [
  {
   "cell_type": "markdown",
   "metadata": {},
   "source": [
    "<h1 align=center>SP20: SQL AND NOSQL: 12147</h1> \n",
    "<h1 align=center>US Parks</h1>\n",
    "<h3>Project Team</h3>\n",
    "<li>Huzefa Igatpuriwala - higatpur@iu.edu</li>\n",
    "<li>Saurabh Swaroop - sswaroop@iu.edu</li>\n",
    "<li>Vijayakumar Perumalsamy - vperumal@iu.edu </li>\n"
   ]
  },
  {
   "cell_type": "markdown",
   "metadata": {},
   "source": [
    "<h5><b>Objective:</b></h5>\n",
    "To gain more insights from the given NPS dataset. "
   ]
  },
  {
   "cell_type": "code",
   "execution_count": 1,
   "metadata": {},
   "outputs": [
    {
     "data": {
      "text/html": [
       "        <script type=\"text/javascript\">\n",
       "        window.PlotlyConfig = {MathJaxConfig: 'local'};\n",
       "        if (window.MathJax) {MathJax.Hub.Config({SVG: {font: \"STIX-Web\"}});}\n",
       "        if (typeof require !== 'undefined') {\n",
       "        require.undef(\"plotly\");\n",
       "        requirejs.config({\n",
       "            paths: {\n",
       "                'plotly': ['https://cdn.plot.ly/plotly-latest.min']\n",
       "            }\n",
       "        });\n",
       "        require(['plotly'], function(Plotly) {\n",
       "            window._Plotly = Plotly;\n",
       "        });\n",
       "        }\n",
       "        </script>\n",
       "        "
      ]
     },
     "metadata": {},
     "output_type": "display_data"
    }
   ],
   "source": [
    "import pandas as pd\n",
    "import numpy as np\n",
    "import os\n",
    "from pymongo import MongoClient\n",
    "import json\n",
    "from bson.code import Code\n",
    "import ipywidgets as widgets\n",
    "from ipywidgets import interact, interact_manual\n",
    "from plotly.offline import download_plotlyjs, init_notebook_mode, plot, iplot\n",
    "init_notebook_mode(connected=True) \n",
    "import plotly.graph_objects as go\n",
    "import chart_studio\n",
    "import chart_studio.plotly as py\n",
    "import plotly.express as px\n",
    "from bson.son import SON\n",
    "\n",
    "from plotly.subplots import make_subplots"
   ]
  },
  {
   "cell_type": "code",
   "execution_count": 2,
   "metadata": {},
   "outputs": [
    {
     "name": "stdout",
     "output_type": "stream",
     "text": [
      "Enabling notebook extension jupyter-js-widgets/extension...\r\n",
      "      - Validating: \u001b[32mOK\u001b[0m\r\n"
     ]
    }
   ],
   "source": [
    "!jupyter nbextension enable --sys-prefix --py widgetsnbextension "
   ]
  },
  {
   "cell_type": "code",
   "execution_count": 3,
   "metadata": {},
   "outputs": [
    {
     "name": "stdout",
     "output_type": "stream",
     "text": [
      "Known nbextensions:\r\n",
      "  config dir: /Users/viaandad/ENV3/etc/jupyter/nbconfig\r\n",
      "    notebook section\r\n",
      "      plotlywidget/extension \u001b[32m enabled \u001b[0m\r\n",
      "      - Validating: \u001b[32mOK\u001b[0m\r\n",
      "      jupyter-js-widgets/extension \u001b[32m enabled \u001b[0m\r\n",
      "      - Validating: \u001b[32mOK\u001b[0m\r\n"
     ]
    }
   ],
   "source": [
    "!jupyter nbextension list"
   ]
  },
  {
   "cell_type": "markdown",
   "metadata": {},
   "source": [
    "<h3>Data Preprocessing</h3>\n",
    "\n",
    "The following datasets are mainly used for this visualization.\n",
    "<ul>\n",
    "<li>US Parks Visitors Last 10 years.csv</li>\n",
    "<li>geo_locations.csv</li>\n",
    "<li>us_states_abbr.csv</li>\n",
    "</ul>\n",
    "<br>\n",
    "Read complete US Parks dataset which includes last 10 years of RV campers, Tent Campers and Recreational Visits data by month/year and process the same."
   ]
  },
  {
   "cell_type": "code",
   "execution_count": 4,
   "metadata": {},
   "outputs": [
    {
     "name": "stdout",
     "output_type": "stream",
     "text": [
      "List of columns available in National Parks dataset:\n",
      "Index(['Park', 'UnitCode', 'ParkType', 'Region', 'State', 'Year', 'Month',\n",
      "       'RecreationVisits', 'TentCampers', 'RVCampers'],\n",
      "      dtype='object')\n"
     ]
    }
   ],
   "source": [
    "np_df=pd.read_csv(\"US Parks Visitors Last 10 years.csv\")\n",
    "print(\"List of columns available in National Parks dataset:\")\n",
    "print(np_df.columns)"
   ]
  },
  {
   "cell_type": "code",
   "execution_count": 5,
   "metadata": {},
   "outputs": [
    {
     "name": "stdout",
     "output_type": "stream",
     "text": [
      "National Parks dataset shape: (53296, 10)\n",
      "National Parks dataset sample:                              Park UnitCode                  ParkType  \\\n",
      "0  Abraham Lincoln Birthplace NHP     ABLI  National Historical Park   \n",
      "\n",
      "       Region State  Year  Month  RecreationVisits  TentCampers  RVCampers  \n",
      "0  Southeast     KY  2008      1              5829            0          0  \n"
     ]
    }
   ],
   "source": [
    "print(\"National Parks dataset shape:\",np_df.shape)\n",
    "print(\"National Parks dataset sample:\",np_df.head(1))"
   ]
  },
  {
   "cell_type": "markdown",
   "metadata": {},
   "source": [
    "<h4>Geolocations data collection based on each National Park address</h4>\n",
    "Populated latitude and longitude data from Google API URL for the given park address and API key and updated geo_locations.csv dataset accordingly. Refer the attached <b>Lat-Long-Google.ipynb</b> for more details. \n",
    "<br><br>\n",
    "<b>Google API URL:</b> <a>https://maps.googleapis.com/maps/api/geocode/json?address={}&key={}</a>\n",
    "\n",
    "Read geo-coordinates data from geo_locations.csv."
   ]
  },
  {
   "cell_type": "code",
   "execution_count": 6,
   "metadata": {},
   "outputs": [
    {
     "name": "stdout",
     "output_type": "stream",
     "text": [
      "List of columns available in National Park Locations dataset:\n",
      "Index(['UnitCode', 'ParkName', 'State_Abbr', 'Country', 'Latitude',\n",
      "       'Longitude'],\n",
      "      dtype='object')\n",
      "National Park Locations dataset shape: (379, 6)\n",
      "National Park Locations dataset sample:\n",
      "  UnitCode                        ParkName State_Abbr Country   Latitude  \\\n",
      "0     ABLI  Abraham Lincoln Birthplace NHP         KY     USA  37.531540   \n",
      "1     ACAD                       Acadia NP         ME     USA  44.338556   \n",
      "2     ADAM                       Adams NHP         MA     USA  42.239235   \n",
      "3     AFBG        African Burial Ground NM         NY     USA  40.714537   \n",
      "4     AGFO            Agate Fossil Beds NM         NE     USA  42.425210   \n",
      "\n",
      "    Longitude  \n",
      "0  -85.735254  \n",
      "1  -68.273335  \n",
      "2  -71.003528  \n",
      "3  -74.004467  \n",
      "4 -103.734240  \n"
     ]
    }
   ],
   "source": [
    "np_df_loc=pd.read_csv(\"geo_locations.csv\")\n",
    "np_df_loc= np_df_loc.rename(columns={\"State\": \"State_Abbr\"})\n",
    "np_df_loc.reset_index()\n",
    "print(\"List of columns available in National Park Locations dataset:\")\n",
    "print(np_df_loc.columns)\n",
    "\n",
    "print(\"National Park Locations dataset shape:\",np_df_loc.shape)\n",
    "print(\"National Park Locations dataset sample:\")\n",
    "print(np_df_loc.head(5))"
   ]
  },
  {
   "cell_type": "markdown",
   "metadata": {},
   "source": [
    "Read US state full names and abbreviations dataset."
   ]
  },
  {
   "cell_type": "code",
   "execution_count": 7,
   "metadata": {},
   "outputs": [
    {
     "name": "stdout",
     "output_type": "stream",
     "text": [
      "List of columns available in US state abbrevation dataset:\n",
      "Index(['State', 'State_Abbr'], dtype='object')\n",
      "US state abbrevation dataset shape: (50, 2)\n",
      "US state abbrevation dataset sample:          State State_Abbr\n",
      "0     Alabama          AL\n",
      "1      Alaska          AK\n",
      "2     Arizona          AZ\n",
      "3    Arkansas          AR\n",
      "4  California          CA\n"
     ]
    }
   ],
   "source": [
    "us_states_abbr_df=pd.read_csv(\"us_states_abbr.csv\")\n",
    "print(\"List of columns available in US state abbrevation dataset:\")\n",
    "print(us_states_abbr_df.columns)\n",
    "\n",
    "print(\"US state abbrevation dataset shape:\",us_states_abbr_df.shape)\n",
    "print(\"US state abbrevation dataset sample:\",us_states_abbr_df.head(5))\n",
    "\n",
    "#Trim the state_abbr column values\n",
    "us_states_abbr_df.State_Abbr = us_states_abbr_df.State_Abbr.str.strip()\n",
    "us_states_abbr_df=us_states_abbr_df.set_index('State_Abbr')"
   ]
  },
  {
   "cell_type": "markdown",
   "metadata": {},
   "source": [
    "##### Merge both National Park and US state abbreviations dataset to include state full name \n"
   ]
  },
  {
   "cell_type": "code",
   "execution_count": 8,
   "metadata": {},
   "outputs": [
    {
     "data": {
      "text/html": [
       "<div>\n",
       "<style scoped>\n",
       "    .dataframe tbody tr th:only-of-type {\n",
       "        vertical-align: middle;\n",
       "    }\n",
       "\n",
       "    .dataframe tbody tr th {\n",
       "        vertical-align: top;\n",
       "    }\n",
       "\n",
       "    .dataframe thead th {\n",
       "        text-align: right;\n",
       "    }\n",
       "</style>\n",
       "<table border=\"1\" class=\"dataframe\">\n",
       "  <thead>\n",
       "    <tr style=\"text-align: right;\">\n",
       "      <th></th>\n",
       "      <th>Park</th>\n",
       "      <th>UnitCode</th>\n",
       "      <th>ParkType</th>\n",
       "      <th>Region</th>\n",
       "      <th>State_Abbr</th>\n",
       "      <th>Year</th>\n",
       "      <th>Month</th>\n",
       "      <th>RecreationVisits</th>\n",
       "      <th>TentCampers</th>\n",
       "      <th>RVCampers</th>\n",
       "      <th>State</th>\n",
       "    </tr>\n",
       "  </thead>\n",
       "  <tbody>\n",
       "    <tr>\n",
       "      <th>0</th>\n",
       "      <td>Abraham Lincoln Birthplace NHP</td>\n",
       "      <td>ABLI</td>\n",
       "      <td>National Historical Park</td>\n",
       "      <td>Southeast</td>\n",
       "      <td>KY</td>\n",
       "      <td>2008</td>\n",
       "      <td>1</td>\n",
       "      <td>5829</td>\n",
       "      <td>0</td>\n",
       "      <td>0</td>\n",
       "      <td>Kentucky</td>\n",
       "    </tr>\n",
       "    <tr>\n",
       "      <th>1</th>\n",
       "      <td>Abraham Lincoln Birthplace NHP</td>\n",
       "      <td>ABLI</td>\n",
       "      <td>National Historical Park</td>\n",
       "      <td>Southeast</td>\n",
       "      <td>KY</td>\n",
       "      <td>2008</td>\n",
       "      <td>2</td>\n",
       "      <td>6911</td>\n",
       "      <td>0</td>\n",
       "      <td>0</td>\n",
       "      <td>Kentucky</td>\n",
       "    </tr>\n",
       "    <tr>\n",
       "      <th>2</th>\n",
       "      <td>Abraham Lincoln Birthplace NHP</td>\n",
       "      <td>ABLI</td>\n",
       "      <td>National Historical Park</td>\n",
       "      <td>Southeast</td>\n",
       "      <td>KY</td>\n",
       "      <td>2008</td>\n",
       "      <td>3</td>\n",
       "      <td>10720</td>\n",
       "      <td>0</td>\n",
       "      <td>0</td>\n",
       "      <td>Kentucky</td>\n",
       "    </tr>\n",
       "    <tr>\n",
       "      <th>3</th>\n",
       "      <td>Abraham Lincoln Birthplace NHP</td>\n",
       "      <td>ABLI</td>\n",
       "      <td>National Historical Park</td>\n",
       "      <td>Southeast</td>\n",
       "      <td>KY</td>\n",
       "      <td>2008</td>\n",
       "      <td>4</td>\n",
       "      <td>17829</td>\n",
       "      <td>0</td>\n",
       "      <td>0</td>\n",
       "      <td>Kentucky</td>\n",
       "    </tr>\n",
       "    <tr>\n",
       "      <th>4</th>\n",
       "      <td>Abraham Lincoln Birthplace NHP</td>\n",
       "      <td>ABLI</td>\n",
       "      <td>National Historical Park</td>\n",
       "      <td>Southeast</td>\n",
       "      <td>KY</td>\n",
       "      <td>2008</td>\n",
       "      <td>5</td>\n",
       "      <td>26295</td>\n",
       "      <td>0</td>\n",
       "      <td>0</td>\n",
       "      <td>Kentucky</td>\n",
       "    </tr>\n",
       "    <tr>\n",
       "      <th>5</th>\n",
       "      <td>Abraham Lincoln Birthplace NHP</td>\n",
       "      <td>ABLI</td>\n",
       "      <td>National Historical Park</td>\n",
       "      <td>Southeast</td>\n",
       "      <td>KY</td>\n",
       "      <td>2008</td>\n",
       "      <td>6</td>\n",
       "      <td>33817</td>\n",
       "      <td>0</td>\n",
       "      <td>0</td>\n",
       "      <td>Kentucky</td>\n",
       "    </tr>\n",
       "    <tr>\n",
       "      <th>6</th>\n",
       "      <td>Abraham Lincoln Birthplace NHP</td>\n",
       "      <td>ABLI</td>\n",
       "      <td>National Historical Park</td>\n",
       "      <td>Southeast</td>\n",
       "      <td>KY</td>\n",
       "      <td>2008</td>\n",
       "      <td>7</td>\n",
       "      <td>29225</td>\n",
       "      <td>0</td>\n",
       "      <td>0</td>\n",
       "      <td>Kentucky</td>\n",
       "    </tr>\n",
       "    <tr>\n",
       "      <th>7</th>\n",
       "      <td>Abraham Lincoln Birthplace NHP</td>\n",
       "      <td>ABLI</td>\n",
       "      <td>National Historical Park</td>\n",
       "      <td>Southeast</td>\n",
       "      <td>KY</td>\n",
       "      <td>2008</td>\n",
       "      <td>8</td>\n",
       "      <td>22166</td>\n",
       "      <td>0</td>\n",
       "      <td>0</td>\n",
       "      <td>Kentucky</td>\n",
       "    </tr>\n",
       "    <tr>\n",
       "      <th>8</th>\n",
       "      <td>Abraham Lincoln Birthplace NHP</td>\n",
       "      <td>ABLI</td>\n",
       "      <td>National Historical Park</td>\n",
       "      <td>Southeast</td>\n",
       "      <td>KY</td>\n",
       "      <td>2008</td>\n",
       "      <td>9</td>\n",
       "      <td>21765</td>\n",
       "      <td>0</td>\n",
       "      <td>0</td>\n",
       "      <td>Kentucky</td>\n",
       "    </tr>\n",
       "    <tr>\n",
       "      <th>9</th>\n",
       "      <td>Abraham Lincoln Birthplace NHP</td>\n",
       "      <td>ABLI</td>\n",
       "      <td>National Historical Park</td>\n",
       "      <td>Southeast</td>\n",
       "      <td>KY</td>\n",
       "      <td>2008</td>\n",
       "      <td>10</td>\n",
       "      <td>13747</td>\n",
       "      <td>0</td>\n",
       "      <td>0</td>\n",
       "      <td>Kentucky</td>\n",
       "    </tr>\n",
       "  </tbody>\n",
       "</table>\n",
       "</div>"
      ],
      "text/plain": [
       "                             Park UnitCode                  ParkType  \\\n",
       "0  Abraham Lincoln Birthplace NHP     ABLI  National Historical Park   \n",
       "1  Abraham Lincoln Birthplace NHP     ABLI  National Historical Park   \n",
       "2  Abraham Lincoln Birthplace NHP     ABLI  National Historical Park   \n",
       "3  Abraham Lincoln Birthplace NHP     ABLI  National Historical Park   \n",
       "4  Abraham Lincoln Birthplace NHP     ABLI  National Historical Park   \n",
       "5  Abraham Lincoln Birthplace NHP     ABLI  National Historical Park   \n",
       "6  Abraham Lincoln Birthplace NHP     ABLI  National Historical Park   \n",
       "7  Abraham Lincoln Birthplace NHP     ABLI  National Historical Park   \n",
       "8  Abraham Lincoln Birthplace NHP     ABLI  National Historical Park   \n",
       "9  Abraham Lincoln Birthplace NHP     ABLI  National Historical Park   \n",
       "\n",
       "       Region State_Abbr  Year  Month  RecreationVisits  TentCampers  \\\n",
       "0  Southeast          KY  2008      1              5829            0   \n",
       "1  Southeast          KY  2008      2              6911            0   \n",
       "2  Southeast          KY  2008      3             10720            0   \n",
       "3  Southeast          KY  2008      4             17829            0   \n",
       "4  Southeast          KY  2008      5             26295            0   \n",
       "5  Southeast          KY  2008      6             33817            0   \n",
       "6  Southeast          KY  2008      7             29225            0   \n",
       "7  Southeast          KY  2008      8             22166            0   \n",
       "8  Southeast          KY  2008      9             21765            0   \n",
       "9  Southeast          KY  2008     10             13747            0   \n",
       "\n",
       "   RVCampers     State  \n",
       "0          0  Kentucky  \n",
       "1          0  Kentucky  \n",
       "2          0  Kentucky  \n",
       "3          0  Kentucky  \n",
       "4          0  Kentucky  \n",
       "5          0  Kentucky  \n",
       "6          0  Kentucky  \n",
       "7          0  Kentucky  \n",
       "8          0  Kentucky  \n",
       "9          0  Kentucky  "
      ]
     },
     "execution_count": 8,
     "metadata": {},
     "output_type": "execute_result"
    }
   ],
   "source": [
    "np_df_actual=np_df\n",
    "np_df_actual= np_df_actual.rename(columns={\"State\": \"State_Abbr\"})\n",
    "np_df_actual.State_Abbr = np_df_actual.State_Abbr.str.strip()\n",
    "np_df_actual = pd.merge(np_df_actual,us_states_abbr_df, how='left', on='State_Abbr')\n",
    "np_df_actual.State = np_df_actual.State.str.strip()\n",
    "np_df_actual.head(10)\n"
   ]
  },
  {
   "cell_type": "code",
   "execution_count": 9,
   "metadata": {},
   "outputs": [],
   "source": [
    "np_df_loc_short=np_df_loc[[\"UnitCode\",'Latitude',\"Longitude\"]]\n",
    "np_df_final = pd.merge(np_df_actual,np_df_loc_short, how='left', on='UnitCode')\n",
    "np_df_final.head(10)\n",
    "np_df_final.shape\n",
    "np_df_final.to_csv(\"nps_base_data.csv\")"
   ]
  },
  {
   "cell_type": "markdown",
   "metadata": {},
   "source": [
    "## Import Json documents to Mongodb"
   ]
  },
  {
   "cell_type": "code",
   "execution_count": 10,
   "metadata": {},
   "outputs": [],
   "source": [
    "def import_content(json_data):\n",
    "    \n",
    "    client = MongoClient('localhost', 27017)\n",
    "    db = client['US_Parks'] \n",
    "    collection_name = 'US_Park_Visitor'\n",
    "    db_cm = db[collection_name]\n",
    "    if collection_name not in db.list_collection_names():\n",
    "        db_cm.insert_many(json_data)\n",
    "    return db,db_cm\n",
    "\n",
    "def read_csv_to_df(filepath):\n",
    "    file_res = os.path.join(os.getcwd(), filepath)\n",
    "    data = pd.read_csv(file_res)\n",
    "    data_json = json.loads(data.to_json(orient='records'))\n",
    "    return data_json,data\n",
    "\n",
    "if __name__ == \"__main__\":\n",
    "  filepath = 'nps_base_data.csv'  \n",
    "  json_data, data = read_csv_to_df(filepath)\n",
    "  US_Parks_db, US_Parks_collection = import_content(json_data)"
   ]
  },
  {
   "cell_type": "markdown",
   "metadata": {},
   "source": [
    "## Analysis using Mongodb data"
   ]
  },
  {
   "cell_type": "markdown",
   "metadata": {},
   "source": [
    "### Verify one document from the collection"
   ]
  },
  {
   "cell_type": "code",
   "execution_count": 11,
   "metadata": {},
   "outputs": [
    {
     "data": {
      "text/plain": [
       "{'_id': ObjectId('5e9f732c7f107a8522f3d0f1'),\n",
       " 'Unnamed: 0': 0,\n",
       " 'Park': 'Abraham Lincoln Birthplace NHP',\n",
       " 'UnitCode': 'ABLI',\n",
       " 'ParkType': 'National Historical Park',\n",
       " 'Region': 'Southeast ',\n",
       " 'State_Abbr': 'KY',\n",
       " 'Year': 2008,\n",
       " 'Month': 1,\n",
       " 'RecreationVisits': 5829,\n",
       " 'TentCampers': 0,\n",
       " 'RVCampers': 0,\n",
       " 'State': 'Kentucky',\n",
       " 'Latitude': 37.53154,\n",
       " 'Longitude': -85.7352542}"
      ]
     },
     "execution_count": 11,
     "metadata": {},
     "output_type": "execute_result"
    }
   ],
   "source": [
    "US_Parks_collection.find_one()"
   ]
  },
  {
   "cell_type": "markdown",
   "metadata": {},
   "source": [
    "### PyMongo aggregation function to group each park type and visualize the count"
   ]
  },
  {
   "cell_type": "code",
   "execution_count": 68,
   "metadata": {},
   "outputs": [
    {
     "data": {
      "application/vnd.plotly.v1+json": {
       "config": {
        "plotlyServerURL": "https://plot.ly"
       },
       "data": [
        {
         "alignmentgroup": "True",
         "customdata": [
          [
           10524
          ]
         ],
         "hovertemplate": "Park Type=%{x}<br>count=%{customdata[0]}<extra></extra>",
         "legendgroup": "National Historic Site",
         "marker": {
          "color": "#636efa"
         },
         "name": "National Historic Site",
         "offsetgroup": "National Historic Site",
         "orientation": "v",
         "showlegend": true,
         "textposition": "auto",
         "type": "bar",
         "x": [
          "National Historic Site"
         ],
         "xaxis": "x",
         "y": [
          10524
         ],
         "yaxis": "y"
        },
        {
         "alignmentgroup": "True",
         "customdata": [
          [
           9624
          ]
         ],
         "hovertemplate": "Park Type=%{x}<br>count=%{customdata[0]}<extra></extra>",
         "legendgroup": "National Monument",
         "marker": {
          "color": "#EF553B"
         },
         "name": "National Monument",
         "offsetgroup": "National Monument",
         "orientation": "v",
         "showlegend": true,
         "textposition": "auto",
         "type": "bar",
         "x": [
          "National Monument"
         ],
         "xaxis": "x",
         "y": [
          9624
         ],
         "yaxis": "y"
        },
        {
         "alignmentgroup": "True",
         "customdata": [
          [
           8928
          ]
         ],
         "hovertemplate": "Park Type=%{x}<br>count=%{customdata[0]}<extra></extra>",
         "legendgroup": "National Park",
         "marker": {
          "color": "#00cc96"
         },
         "name": "National Park",
         "offsetgroup": "National Park",
         "orientation": "v",
         "showlegend": true,
         "textposition": "auto",
         "type": "bar",
         "x": [
          "National Park"
         ],
         "xaxis": "x",
         "y": [
          8928
         ],
         "yaxis": "y"
        },
        {
         "alignmentgroup": "True",
         "customdata": [
          [
           7140
          ]
         ],
         "hovertemplate": "Park Type=%{x}<br>count=%{customdata[0]}<extra></extra>",
         "legendgroup": "National Historical Park",
         "marker": {
          "color": "#ab63fa"
         },
         "name": "National Historical Park",
         "offsetgroup": "National Historical Park",
         "orientation": "v",
         "showlegend": true,
         "textposition": "auto",
         "type": "bar",
         "x": [
          "National Historical Park"
         ],
         "xaxis": "x",
         "y": [
          7140
         ],
         "yaxis": "y"
        },
        {
         "alignmentgroup": "True",
         "customdata": [
          [
           4108
          ]
         ],
         "hovertemplate": "Park Type=%{x}<br>count=%{customdata[0]}<extra></extra>",
         "legendgroup": "National Memorial",
         "marker": {
          "color": "#FFA15A"
         },
         "name": "National Memorial",
         "offsetgroup": "National Memorial",
         "orientation": "v",
         "showlegend": true,
         "textposition": "auto",
         "type": "bar",
         "x": [
          "National Memorial"
         ],
         "xaxis": "x",
         "y": [
          4108
         ],
         "yaxis": "y"
        },
        {
         "alignmentgroup": "True",
         "customdata": [
          [
           2448
          ]
         ],
         "hovertemplate": "Park Type=%{x}<br>count=%{customdata[0]}<extra></extra>",
         "legendgroup": "National Recreation Area",
         "marker": {
          "color": "#19d3f3"
         },
         "name": "National Recreation Area",
         "offsetgroup": "National Recreation Area",
         "orientation": "v",
         "showlegend": true,
         "textposition": "auto",
         "type": "bar",
         "x": [
          "National Recreation Area"
         ],
         "xaxis": "x",
         "y": [
          2448
         ],
         "yaxis": "y"
        },
        {
         "alignmentgroup": "True",
         "customdata": [
          [
           1584
          ]
         ],
         "hovertemplate": "Park Type=%{x}<br>count=%{customdata[0]}<extra></extra>",
         "legendgroup": "Park (Other)",
         "marker": {
          "color": "#FF6692"
         },
         "name": "Park (Other)",
         "offsetgroup": "Park (Other)",
         "orientation": "v",
         "showlegend": true,
         "textposition": "auto",
         "type": "bar",
         "x": [
          "Park (Other)"
         ],
         "xaxis": "x",
         "y": [
          1584
         ],
         "yaxis": "y"
        },
        {
         "alignmentgroup": "True",
         "customdata": [
          [
           1440
          ]
         ],
         "hovertemplate": "Park Type=%{x}<br>count=%{customdata[0]}<extra></extra>",
         "legendgroup": "National Seashore",
         "marker": {
          "color": "#B6E880"
         },
         "name": "National Seashore",
         "offsetgroup": "National Seashore",
         "orientation": "v",
         "showlegend": true,
         "textposition": "auto",
         "type": "bar",
         "x": [
          "National Seashore"
         ],
         "xaxis": "x",
         "y": [
          1440
         ],
         "yaxis": "y"
        },
        {
         "alignmentgroup": "True",
         "customdata": [
          [
           1440
          ]
         ],
         "hovertemplate": "Park Type=%{x}<br>count=%{customdata[0]}<extra></extra>",
         "legendgroup": "National Battlefield",
         "marker": {
          "color": "#FF97FF"
         },
         "name": "National Battlefield",
         "offsetgroup": "National Battlefield",
         "orientation": "v",
         "showlegend": true,
         "textposition": "auto",
         "type": "bar",
         "x": [
          "National Battlefield"
         ],
         "xaxis": "x",
         "y": [
          1440
         ],
         "yaxis": "y"
        },
        {
         "alignmentgroup": "True",
         "customdata": [
          [
           1296
          ]
         ],
         "hovertemplate": "Park Type=%{x}<br>count=%{customdata[0]}<extra></extra>",
         "legendgroup": "National Preserve",
         "marker": {
          "color": "#FECB52"
         },
         "name": "National Preserve",
         "offsetgroup": "National Preserve",
         "orientation": "v",
         "showlegend": true,
         "textposition": "auto",
         "type": "bar",
         "x": [
          "National Preserve"
         ],
         "xaxis": "x",
         "y": [
          1296
         ],
         "yaxis": "y"
        },
        {
         "alignmentgroup": "True",
         "customdata": [
          [
           1296
          ]
         ],
         "hovertemplate": "Park Type=%{x}<br>count=%{customdata[0]}<extra></extra>",
         "legendgroup": "National Military Park",
         "marker": {
          "color": "#636efa"
         },
         "name": "National Military Park",
         "offsetgroup": "National Military Park",
         "orientation": "v",
         "showlegend": true,
         "textposition": "auto",
         "type": "bar",
         "x": [
          "National Military Park"
         ],
         "xaxis": "x",
         "y": [
          1296
         ],
         "yaxis": "y"
        },
        {
         "alignmentgroup": "True",
         "customdata": [
          [
           1008
          ]
         ],
         "hovertemplate": "Park Type=%{x}<br>count=%{customdata[0]}<extra></extra>",
         "legendgroup": "National Wild & Scenic River",
         "marker": {
          "color": "#EF553B"
         },
         "name": "National Wild & Scenic River",
         "offsetgroup": "National Wild & Scenic River",
         "orientation": "v",
         "showlegend": true,
         "textposition": "auto",
         "type": "bar",
         "x": [
          "National Wild & Scenic River"
         ],
         "xaxis": "x",
         "y": [
          1008
         ],
         "yaxis": "y"
        },
        {
         "alignmentgroup": "True",
         "customdata": [
          [
           684
          ]
         ],
         "hovertemplate": "Park Type=%{x}<br>count=%{customdata[0]}<extra></extra>",
         "legendgroup": "National River",
         "marker": {
          "color": "#00cc96"
         },
         "name": "National River",
         "offsetgroup": "National River",
         "orientation": "v",
         "showlegend": true,
         "textposition": "auto",
         "type": "bar",
         "x": [
          "National River"
         ],
         "xaxis": "x",
         "y": [
          684
         ],
         "yaxis": "y"
        },
        {
         "alignmentgroup": "True",
         "customdata": [
          [
           576
          ]
         ],
         "hovertemplate": "Park Type=%{x}<br>count=%{customdata[0]}<extra></extra>",
         "legendgroup": "National Parkway",
         "marker": {
          "color": "#ab63fa"
         },
         "name": "National Parkway",
         "offsetgroup": "National Parkway",
         "orientation": "v",
         "showlegend": true,
         "textposition": "auto",
         "type": "bar",
         "x": [
          "National Parkway"
         ],
         "xaxis": "x",
         "y": [
          576
         ],
         "yaxis": "y"
        },
        {
         "alignmentgroup": "True",
         "customdata": [
          [
           540
          ]
         ],
         "hovertemplate": "Park Type=%{x}<br>count=%{customdata[0]}<extra></extra>",
         "legendgroup": "National Battlefield Park",
         "marker": {
          "color": "#FFA15A"
         },
         "name": "National Battlefield Park",
         "offsetgroup": "National Battlefield Park",
         "orientation": "v",
         "showlegend": true,
         "textposition": "auto",
         "type": "bar",
         "x": [
          "National Battlefield Park"
         ],
         "xaxis": "x",
         "y": [
          540
         ],
         "yaxis": "y"
        },
        {
         "alignmentgroup": "True",
         "customdata": [
          [
           432
          ]
         ],
         "hovertemplate": "Park Type=%{x}<br>count=%{customdata[0]}<extra></extra>",
         "legendgroup": "National Lakeshore",
         "marker": {
          "color": "#19d3f3"
         },
         "name": "National Lakeshore",
         "offsetgroup": "National Lakeshore",
         "orientation": "v",
         "showlegend": true,
         "textposition": "auto",
         "type": "bar",
         "x": [
          "National Lakeshore"
         ],
         "xaxis": "x",
         "y": [
          432
         ],
         "yaxis": "y"
        },
        {
         "alignmentgroup": "True",
         "customdata": [
          [
           144
          ]
         ],
         "hovertemplate": "Park Type=%{x}<br>count=%{customdata[0]}<extra></extra>",
         "legendgroup": "National Reserve",
         "marker": {
          "color": "#FF6692"
         },
         "name": "National Reserve",
         "offsetgroup": "National Reserve",
         "orientation": "v",
         "showlegend": true,
         "textposition": "auto",
         "type": "bar",
         "x": [
          "National Reserve"
         ],
         "xaxis": "x",
         "y": [
          144
         ],
         "yaxis": "y"
        },
        {
         "alignmentgroup": "True",
         "customdata": [
          [
           84
          ]
         ],
         "hovertemplate": "Park Type=%{x}<br>count=%{customdata[0]}<extra></extra>",
         "legendgroup": "International Historic Site",
         "marker": {
          "color": "#B6E880"
         },
         "name": "International Historic Site",
         "offsetgroup": "International Historic Site",
         "orientation": "v",
         "showlegend": true,
         "textposition": "auto",
         "type": "bar",
         "x": [
          "International Historic Site"
         ],
         "xaxis": "x",
         "y": [
          84
         ],
         "yaxis": "y"
        }
       ],
       "layout": {
        "barmode": "relative",
        "legend": {
         "title": {
          "text": "Park Type"
         },
         "tracegroupgap": 0
        },
        "margin": {
         "t": 60
        },
        "template": {
         "data": {
          "bar": [
           {
            "error_x": {
             "color": "#2a3f5f"
            },
            "error_y": {
             "color": "#2a3f5f"
            },
            "marker": {
             "line": {
              "color": "#E5ECF6",
              "width": 0.5
             }
            },
            "type": "bar"
           }
          ],
          "barpolar": [
           {
            "marker": {
             "line": {
              "color": "#E5ECF6",
              "width": 0.5
             }
            },
            "type": "barpolar"
           }
          ],
          "carpet": [
           {
            "aaxis": {
             "endlinecolor": "#2a3f5f",
             "gridcolor": "white",
             "linecolor": "white",
             "minorgridcolor": "white",
             "startlinecolor": "#2a3f5f"
            },
            "baxis": {
             "endlinecolor": "#2a3f5f",
             "gridcolor": "white",
             "linecolor": "white",
             "minorgridcolor": "white",
             "startlinecolor": "#2a3f5f"
            },
            "type": "carpet"
           }
          ],
          "choropleth": [
           {
            "colorbar": {
             "outlinewidth": 0,
             "ticks": ""
            },
            "type": "choropleth"
           }
          ],
          "contour": [
           {
            "colorbar": {
             "outlinewidth": 0,
             "ticks": ""
            },
            "colorscale": [
             [
              0,
              "#0d0887"
             ],
             [
              0.1111111111111111,
              "#46039f"
             ],
             [
              0.2222222222222222,
              "#7201a8"
             ],
             [
              0.3333333333333333,
              "#9c179e"
             ],
             [
              0.4444444444444444,
              "#bd3786"
             ],
             [
              0.5555555555555556,
              "#d8576b"
             ],
             [
              0.6666666666666666,
              "#ed7953"
             ],
             [
              0.7777777777777778,
              "#fb9f3a"
             ],
             [
              0.8888888888888888,
              "#fdca26"
             ],
             [
              1,
              "#f0f921"
             ]
            ],
            "type": "contour"
           }
          ],
          "contourcarpet": [
           {
            "colorbar": {
             "outlinewidth": 0,
             "ticks": ""
            },
            "type": "contourcarpet"
           }
          ],
          "heatmap": [
           {
            "colorbar": {
             "outlinewidth": 0,
             "ticks": ""
            },
            "colorscale": [
             [
              0,
              "#0d0887"
             ],
             [
              0.1111111111111111,
              "#46039f"
             ],
             [
              0.2222222222222222,
              "#7201a8"
             ],
             [
              0.3333333333333333,
              "#9c179e"
             ],
             [
              0.4444444444444444,
              "#bd3786"
             ],
             [
              0.5555555555555556,
              "#d8576b"
             ],
             [
              0.6666666666666666,
              "#ed7953"
             ],
             [
              0.7777777777777778,
              "#fb9f3a"
             ],
             [
              0.8888888888888888,
              "#fdca26"
             ],
             [
              1,
              "#f0f921"
             ]
            ],
            "type": "heatmap"
           }
          ],
          "heatmapgl": [
           {
            "colorbar": {
             "outlinewidth": 0,
             "ticks": ""
            },
            "colorscale": [
             [
              0,
              "#0d0887"
             ],
             [
              0.1111111111111111,
              "#46039f"
             ],
             [
              0.2222222222222222,
              "#7201a8"
             ],
             [
              0.3333333333333333,
              "#9c179e"
             ],
             [
              0.4444444444444444,
              "#bd3786"
             ],
             [
              0.5555555555555556,
              "#d8576b"
             ],
             [
              0.6666666666666666,
              "#ed7953"
             ],
             [
              0.7777777777777778,
              "#fb9f3a"
             ],
             [
              0.8888888888888888,
              "#fdca26"
             ],
             [
              1,
              "#f0f921"
             ]
            ],
            "type": "heatmapgl"
           }
          ],
          "histogram": [
           {
            "marker": {
             "colorbar": {
              "outlinewidth": 0,
              "ticks": ""
             }
            },
            "type": "histogram"
           }
          ],
          "histogram2d": [
           {
            "colorbar": {
             "outlinewidth": 0,
             "ticks": ""
            },
            "colorscale": [
             [
              0,
              "#0d0887"
             ],
             [
              0.1111111111111111,
              "#46039f"
             ],
             [
              0.2222222222222222,
              "#7201a8"
             ],
             [
              0.3333333333333333,
              "#9c179e"
             ],
             [
              0.4444444444444444,
              "#bd3786"
             ],
             [
              0.5555555555555556,
              "#d8576b"
             ],
             [
              0.6666666666666666,
              "#ed7953"
             ],
             [
              0.7777777777777778,
              "#fb9f3a"
             ],
             [
              0.8888888888888888,
              "#fdca26"
             ],
             [
              1,
              "#f0f921"
             ]
            ],
            "type": "histogram2d"
           }
          ],
          "histogram2dcontour": [
           {
            "colorbar": {
             "outlinewidth": 0,
             "ticks": ""
            },
            "colorscale": [
             [
              0,
              "#0d0887"
             ],
             [
              0.1111111111111111,
              "#46039f"
             ],
             [
              0.2222222222222222,
              "#7201a8"
             ],
             [
              0.3333333333333333,
              "#9c179e"
             ],
             [
              0.4444444444444444,
              "#bd3786"
             ],
             [
              0.5555555555555556,
              "#d8576b"
             ],
             [
              0.6666666666666666,
              "#ed7953"
             ],
             [
              0.7777777777777778,
              "#fb9f3a"
             ],
             [
              0.8888888888888888,
              "#fdca26"
             ],
             [
              1,
              "#f0f921"
             ]
            ],
            "type": "histogram2dcontour"
           }
          ],
          "mesh3d": [
           {
            "colorbar": {
             "outlinewidth": 0,
             "ticks": ""
            },
            "type": "mesh3d"
           }
          ],
          "parcoords": [
           {
            "line": {
             "colorbar": {
              "outlinewidth": 0,
              "ticks": ""
             }
            },
            "type": "parcoords"
           }
          ],
          "pie": [
           {
            "automargin": true,
            "type": "pie"
           }
          ],
          "scatter": [
           {
            "marker": {
             "colorbar": {
              "outlinewidth": 0,
              "ticks": ""
             }
            },
            "type": "scatter"
           }
          ],
          "scatter3d": [
           {
            "line": {
             "colorbar": {
              "outlinewidth": 0,
              "ticks": ""
             }
            },
            "marker": {
             "colorbar": {
              "outlinewidth": 0,
              "ticks": ""
             }
            },
            "type": "scatter3d"
           }
          ],
          "scattercarpet": [
           {
            "marker": {
             "colorbar": {
              "outlinewidth": 0,
              "ticks": ""
             }
            },
            "type": "scattercarpet"
           }
          ],
          "scattergeo": [
           {
            "marker": {
             "colorbar": {
              "outlinewidth": 0,
              "ticks": ""
             }
            },
            "type": "scattergeo"
           }
          ],
          "scattergl": [
           {
            "marker": {
             "colorbar": {
              "outlinewidth": 0,
              "ticks": ""
             }
            },
            "type": "scattergl"
           }
          ],
          "scattermapbox": [
           {
            "marker": {
             "colorbar": {
              "outlinewidth": 0,
              "ticks": ""
             }
            },
            "type": "scattermapbox"
           }
          ],
          "scatterpolar": [
           {
            "marker": {
             "colorbar": {
              "outlinewidth": 0,
              "ticks": ""
             }
            },
            "type": "scatterpolar"
           }
          ],
          "scatterpolargl": [
           {
            "marker": {
             "colorbar": {
              "outlinewidth": 0,
              "ticks": ""
             }
            },
            "type": "scatterpolargl"
           }
          ],
          "scatterternary": [
           {
            "marker": {
             "colorbar": {
              "outlinewidth": 0,
              "ticks": ""
             }
            },
            "type": "scatterternary"
           }
          ],
          "surface": [
           {
            "colorbar": {
             "outlinewidth": 0,
             "ticks": ""
            },
            "colorscale": [
             [
              0,
              "#0d0887"
             ],
             [
              0.1111111111111111,
              "#46039f"
             ],
             [
              0.2222222222222222,
              "#7201a8"
             ],
             [
              0.3333333333333333,
              "#9c179e"
             ],
             [
              0.4444444444444444,
              "#bd3786"
             ],
             [
              0.5555555555555556,
              "#d8576b"
             ],
             [
              0.6666666666666666,
              "#ed7953"
             ],
             [
              0.7777777777777778,
              "#fb9f3a"
             ],
             [
              0.8888888888888888,
              "#fdca26"
             ],
             [
              1,
              "#f0f921"
             ]
            ],
            "type": "surface"
           }
          ],
          "table": [
           {
            "cells": {
             "fill": {
              "color": "#EBF0F8"
             },
             "line": {
              "color": "white"
             }
            },
            "header": {
             "fill": {
              "color": "#C8D4E3"
             },
             "line": {
              "color": "white"
             }
            },
            "type": "table"
           }
          ]
         },
         "layout": {
          "annotationdefaults": {
           "arrowcolor": "#2a3f5f",
           "arrowhead": 0,
           "arrowwidth": 1
          },
          "coloraxis": {
           "colorbar": {
            "outlinewidth": 0,
            "ticks": ""
           }
          },
          "colorscale": {
           "diverging": [
            [
             0,
             "#8e0152"
            ],
            [
             0.1,
             "#c51b7d"
            ],
            [
             0.2,
             "#de77ae"
            ],
            [
             0.3,
             "#f1b6da"
            ],
            [
             0.4,
             "#fde0ef"
            ],
            [
             0.5,
             "#f7f7f7"
            ],
            [
             0.6,
             "#e6f5d0"
            ],
            [
             0.7,
             "#b8e186"
            ],
            [
             0.8,
             "#7fbc41"
            ],
            [
             0.9,
             "#4d9221"
            ],
            [
             1,
             "#276419"
            ]
           ],
           "sequential": [
            [
             0,
             "#0d0887"
            ],
            [
             0.1111111111111111,
             "#46039f"
            ],
            [
             0.2222222222222222,
             "#7201a8"
            ],
            [
             0.3333333333333333,
             "#9c179e"
            ],
            [
             0.4444444444444444,
             "#bd3786"
            ],
            [
             0.5555555555555556,
             "#d8576b"
            ],
            [
             0.6666666666666666,
             "#ed7953"
            ],
            [
             0.7777777777777778,
             "#fb9f3a"
            ],
            [
             0.8888888888888888,
             "#fdca26"
            ],
            [
             1,
             "#f0f921"
            ]
           ],
           "sequentialminus": [
            [
             0,
             "#0d0887"
            ],
            [
             0.1111111111111111,
             "#46039f"
            ],
            [
             0.2222222222222222,
             "#7201a8"
            ],
            [
             0.3333333333333333,
             "#9c179e"
            ],
            [
             0.4444444444444444,
             "#bd3786"
            ],
            [
             0.5555555555555556,
             "#d8576b"
            ],
            [
             0.6666666666666666,
             "#ed7953"
            ],
            [
             0.7777777777777778,
             "#fb9f3a"
            ],
            [
             0.8888888888888888,
             "#fdca26"
            ],
            [
             1,
             "#f0f921"
            ]
           ]
          },
          "colorway": [
           "#636efa",
           "#EF553B",
           "#00cc96",
           "#ab63fa",
           "#FFA15A",
           "#19d3f3",
           "#FF6692",
           "#B6E880",
           "#FF97FF",
           "#FECB52"
          ],
          "font": {
           "color": "#2a3f5f"
          },
          "geo": {
           "bgcolor": "white",
           "lakecolor": "white",
           "landcolor": "#E5ECF6",
           "showlakes": true,
           "showland": true,
           "subunitcolor": "white"
          },
          "hoverlabel": {
           "align": "left"
          },
          "hovermode": "closest",
          "mapbox": {
           "style": "light"
          },
          "paper_bgcolor": "white",
          "plot_bgcolor": "#E5ECF6",
          "polar": {
           "angularaxis": {
            "gridcolor": "white",
            "linecolor": "white",
            "ticks": ""
           },
           "bgcolor": "#E5ECF6",
           "radialaxis": {
            "gridcolor": "white",
            "linecolor": "white",
            "ticks": ""
           }
          },
          "scene": {
           "xaxis": {
            "backgroundcolor": "#E5ECF6",
            "gridcolor": "white",
            "gridwidth": 2,
            "linecolor": "white",
            "showbackground": true,
            "ticks": "",
            "zerolinecolor": "white"
           },
           "yaxis": {
            "backgroundcolor": "#E5ECF6",
            "gridcolor": "white",
            "gridwidth": 2,
            "linecolor": "white",
            "showbackground": true,
            "ticks": "",
            "zerolinecolor": "white"
           },
           "zaxis": {
            "backgroundcolor": "#E5ECF6",
            "gridcolor": "white",
            "gridwidth": 2,
            "linecolor": "white",
            "showbackground": true,
            "ticks": "",
            "zerolinecolor": "white"
           }
          },
          "shapedefaults": {
           "line": {
            "color": "#2a3f5f"
           }
          },
          "ternary": {
           "aaxis": {
            "gridcolor": "white",
            "linecolor": "white",
            "ticks": ""
           },
           "baxis": {
            "gridcolor": "white",
            "linecolor": "white",
            "ticks": ""
           },
           "bgcolor": "#E5ECF6",
           "caxis": {
            "gridcolor": "white",
            "linecolor": "white",
            "ticks": ""
           }
          },
          "title": {
           "x": 0.05
          },
          "xaxis": {
           "automargin": true,
           "gridcolor": "white",
           "linecolor": "white",
           "ticks": "",
           "title": {
            "standoff": 15
           },
           "zerolinecolor": "white",
           "zerolinewidth": 2
          },
          "yaxis": {
           "automargin": true,
           "gridcolor": "white",
           "linecolor": "white",
           "ticks": "",
           "title": {
            "standoff": 15
           },
           "zerolinecolor": "white",
           "zerolinewidth": 2
          }
         }
        },
        "xaxis": {
         "anchor": "y",
         "categoryarray": [
          "National Historic Site",
          "National Monument",
          "National Park",
          "National Historical Park",
          "National Memorial",
          "National Recreation Area",
          "Park (Other)",
          "National Seashore",
          "National Battlefield",
          "National Preserve",
          "National Military Park",
          "National Wild & Scenic River",
          "National River",
          "National Parkway",
          "National Battlefield Park",
          "National Lakeshore",
          "National Reserve",
          "International Historic Site"
         ],
         "categoryorder": "array",
         "domain": [
          0,
          1
         ],
         "title": {
          "text": "Park Type"
         }
        },
        "yaxis": {
         "anchor": "x",
         "domain": [
          0,
          1
         ],
         "title": {
          "text": "count"
         }
        }
       }
      },
      "text/html": [
       "<div>\n",
       "        \n",
       "        \n",
       "            <div id=\"ebc34263-ac0e-43bf-99d9-ae02e9ad0cd5\" class=\"plotly-graph-div\" style=\"height:525px; width:100%;\"></div>\n",
       "            <script type=\"text/javascript\">\n",
       "                require([\"plotly\"], function(Plotly) {\n",
       "                    window.PLOTLYENV=window.PLOTLYENV || {};\n",
       "                    \n",
       "                if (document.getElementById(\"ebc34263-ac0e-43bf-99d9-ae02e9ad0cd5\")) {\n",
       "                    Plotly.newPlot(\n",
       "                        'ebc34263-ac0e-43bf-99d9-ae02e9ad0cd5',\n",
       "                        [{\"alignmentgroup\": \"True\", \"customdata\": [[10524]], \"hovertemplate\": \"Park Type=%{x}<br>count=%{customdata[0]}<extra></extra>\", \"legendgroup\": \"National Historic Site\", \"marker\": {\"color\": \"#636efa\"}, \"name\": \"National Historic Site\", \"offsetgroup\": \"National Historic Site\", \"orientation\": \"v\", \"showlegend\": true, \"textposition\": \"auto\", \"type\": \"bar\", \"x\": [\"National Historic Site\"], \"xaxis\": \"x\", \"y\": [10524], \"yaxis\": \"y\"}, {\"alignmentgroup\": \"True\", \"customdata\": [[9624]], \"hovertemplate\": \"Park Type=%{x}<br>count=%{customdata[0]}<extra></extra>\", \"legendgroup\": \"National Monument\", \"marker\": {\"color\": \"#EF553B\"}, \"name\": \"National Monument\", \"offsetgroup\": \"National Monument\", \"orientation\": \"v\", \"showlegend\": true, \"textposition\": \"auto\", \"type\": \"bar\", \"x\": [\"National Monument\"], \"xaxis\": \"x\", \"y\": [9624], \"yaxis\": \"y\"}, {\"alignmentgroup\": \"True\", \"customdata\": [[8928]], \"hovertemplate\": \"Park Type=%{x}<br>count=%{customdata[0]}<extra></extra>\", \"legendgroup\": \"National Park\", \"marker\": {\"color\": \"#00cc96\"}, \"name\": \"National Park\", \"offsetgroup\": \"National Park\", \"orientation\": \"v\", \"showlegend\": true, \"textposition\": \"auto\", \"type\": \"bar\", \"x\": [\"National Park\"], \"xaxis\": \"x\", \"y\": [8928], \"yaxis\": \"y\"}, {\"alignmentgroup\": \"True\", \"customdata\": [[7140]], \"hovertemplate\": \"Park Type=%{x}<br>count=%{customdata[0]}<extra></extra>\", \"legendgroup\": \"National Historical Park\", \"marker\": {\"color\": \"#ab63fa\"}, \"name\": \"National Historical Park\", \"offsetgroup\": \"National Historical Park\", \"orientation\": \"v\", \"showlegend\": true, \"textposition\": \"auto\", \"type\": \"bar\", \"x\": [\"National Historical Park\"], \"xaxis\": \"x\", \"y\": [7140], \"yaxis\": \"y\"}, {\"alignmentgroup\": \"True\", \"customdata\": [[4108]], \"hovertemplate\": \"Park Type=%{x}<br>count=%{customdata[0]}<extra></extra>\", \"legendgroup\": \"National Memorial\", \"marker\": {\"color\": \"#FFA15A\"}, \"name\": \"National Memorial\", \"offsetgroup\": \"National Memorial\", \"orientation\": \"v\", \"showlegend\": true, \"textposition\": \"auto\", \"type\": \"bar\", \"x\": [\"National Memorial\"], \"xaxis\": \"x\", \"y\": [4108], \"yaxis\": \"y\"}, {\"alignmentgroup\": \"True\", \"customdata\": [[2448]], \"hovertemplate\": \"Park Type=%{x}<br>count=%{customdata[0]}<extra></extra>\", \"legendgroup\": \"National Recreation Area\", \"marker\": {\"color\": \"#19d3f3\"}, \"name\": \"National Recreation Area\", \"offsetgroup\": \"National Recreation Area\", \"orientation\": \"v\", \"showlegend\": true, \"textposition\": \"auto\", \"type\": \"bar\", \"x\": [\"National Recreation Area\"], \"xaxis\": \"x\", \"y\": [2448], \"yaxis\": \"y\"}, {\"alignmentgroup\": \"True\", \"customdata\": [[1584]], \"hovertemplate\": \"Park Type=%{x}<br>count=%{customdata[0]}<extra></extra>\", \"legendgroup\": \"Park (Other)\", \"marker\": {\"color\": \"#FF6692\"}, \"name\": \"Park (Other)\", \"offsetgroup\": \"Park (Other)\", \"orientation\": \"v\", \"showlegend\": true, \"textposition\": \"auto\", \"type\": \"bar\", \"x\": [\"Park (Other)\"], \"xaxis\": \"x\", \"y\": [1584], \"yaxis\": \"y\"}, {\"alignmentgroup\": \"True\", \"customdata\": [[1440]], \"hovertemplate\": \"Park Type=%{x}<br>count=%{customdata[0]}<extra></extra>\", \"legendgroup\": \"National Seashore\", \"marker\": {\"color\": \"#B6E880\"}, \"name\": \"National Seashore\", \"offsetgroup\": \"National Seashore\", \"orientation\": \"v\", \"showlegend\": true, \"textposition\": \"auto\", \"type\": \"bar\", \"x\": [\"National Seashore\"], \"xaxis\": \"x\", \"y\": [1440], \"yaxis\": \"y\"}, {\"alignmentgroup\": \"True\", \"customdata\": [[1440]], \"hovertemplate\": \"Park Type=%{x}<br>count=%{customdata[0]}<extra></extra>\", \"legendgroup\": \"National Battlefield\", \"marker\": {\"color\": \"#FF97FF\"}, \"name\": \"National Battlefield\", \"offsetgroup\": \"National Battlefield\", \"orientation\": \"v\", \"showlegend\": true, \"textposition\": \"auto\", \"type\": \"bar\", \"x\": [\"National Battlefield\"], \"xaxis\": \"x\", \"y\": [1440], \"yaxis\": \"y\"}, {\"alignmentgroup\": \"True\", \"customdata\": [[1296]], \"hovertemplate\": \"Park Type=%{x}<br>count=%{customdata[0]}<extra></extra>\", \"legendgroup\": \"National Preserve\", \"marker\": {\"color\": \"#FECB52\"}, \"name\": \"National Preserve\", \"offsetgroup\": \"National Preserve\", \"orientation\": \"v\", \"showlegend\": true, \"textposition\": \"auto\", \"type\": \"bar\", \"x\": [\"National Preserve\"], \"xaxis\": \"x\", \"y\": [1296], \"yaxis\": \"y\"}, {\"alignmentgroup\": \"True\", \"customdata\": [[1296]], \"hovertemplate\": \"Park Type=%{x}<br>count=%{customdata[0]}<extra></extra>\", \"legendgroup\": \"National Military Park\", \"marker\": {\"color\": \"#636efa\"}, \"name\": \"National Military Park\", \"offsetgroup\": \"National Military Park\", \"orientation\": \"v\", \"showlegend\": true, \"textposition\": \"auto\", \"type\": \"bar\", \"x\": [\"National Military Park\"], \"xaxis\": \"x\", \"y\": [1296], \"yaxis\": \"y\"}, {\"alignmentgroup\": \"True\", \"customdata\": [[1008]], \"hovertemplate\": \"Park Type=%{x}<br>count=%{customdata[0]}<extra></extra>\", \"legendgroup\": \"National Wild & Scenic River\", \"marker\": {\"color\": \"#EF553B\"}, \"name\": \"National Wild & Scenic River\", \"offsetgroup\": \"National Wild & Scenic River\", \"orientation\": \"v\", \"showlegend\": true, \"textposition\": \"auto\", \"type\": \"bar\", \"x\": [\"National Wild & Scenic River\"], \"xaxis\": \"x\", \"y\": [1008], \"yaxis\": \"y\"}, {\"alignmentgroup\": \"True\", \"customdata\": [[684]], \"hovertemplate\": \"Park Type=%{x}<br>count=%{customdata[0]}<extra></extra>\", \"legendgroup\": \"National River\", \"marker\": {\"color\": \"#00cc96\"}, \"name\": \"National River\", \"offsetgroup\": \"National River\", \"orientation\": \"v\", \"showlegend\": true, \"textposition\": \"auto\", \"type\": \"bar\", \"x\": [\"National River\"], \"xaxis\": \"x\", \"y\": [684], \"yaxis\": \"y\"}, {\"alignmentgroup\": \"True\", \"customdata\": [[576]], \"hovertemplate\": \"Park Type=%{x}<br>count=%{customdata[0]}<extra></extra>\", \"legendgroup\": \"National Parkway\", \"marker\": {\"color\": \"#ab63fa\"}, \"name\": \"National Parkway\", \"offsetgroup\": \"National Parkway\", \"orientation\": \"v\", \"showlegend\": true, \"textposition\": \"auto\", \"type\": \"bar\", \"x\": [\"National Parkway\"], \"xaxis\": \"x\", \"y\": [576], \"yaxis\": \"y\"}, {\"alignmentgroup\": \"True\", \"customdata\": [[540]], \"hovertemplate\": \"Park Type=%{x}<br>count=%{customdata[0]}<extra></extra>\", \"legendgroup\": \"National Battlefield Park\", \"marker\": {\"color\": \"#FFA15A\"}, \"name\": \"National Battlefield Park\", \"offsetgroup\": \"National Battlefield Park\", \"orientation\": \"v\", \"showlegend\": true, \"textposition\": \"auto\", \"type\": \"bar\", \"x\": [\"National Battlefield Park\"], \"xaxis\": \"x\", \"y\": [540], \"yaxis\": \"y\"}, {\"alignmentgroup\": \"True\", \"customdata\": [[432]], \"hovertemplate\": \"Park Type=%{x}<br>count=%{customdata[0]}<extra></extra>\", \"legendgroup\": \"National Lakeshore\", \"marker\": {\"color\": \"#19d3f3\"}, \"name\": \"National Lakeshore\", \"offsetgroup\": \"National Lakeshore\", \"orientation\": \"v\", \"showlegend\": true, \"textposition\": \"auto\", \"type\": \"bar\", \"x\": [\"National Lakeshore\"], \"xaxis\": \"x\", \"y\": [432], \"yaxis\": \"y\"}, {\"alignmentgroup\": \"True\", \"customdata\": [[144]], \"hovertemplate\": \"Park Type=%{x}<br>count=%{customdata[0]}<extra></extra>\", \"legendgroup\": \"National Reserve\", \"marker\": {\"color\": \"#FF6692\"}, \"name\": \"National Reserve\", \"offsetgroup\": \"National Reserve\", \"orientation\": \"v\", \"showlegend\": true, \"textposition\": \"auto\", \"type\": \"bar\", \"x\": [\"National Reserve\"], \"xaxis\": \"x\", \"y\": [144], \"yaxis\": \"y\"}, {\"alignmentgroup\": \"True\", \"customdata\": [[84]], \"hovertemplate\": \"Park Type=%{x}<br>count=%{customdata[0]}<extra></extra>\", \"legendgroup\": \"International Historic Site\", \"marker\": {\"color\": \"#B6E880\"}, \"name\": \"International Historic Site\", \"offsetgroup\": \"International Historic Site\", \"orientation\": \"v\", \"showlegend\": true, \"textposition\": \"auto\", \"type\": \"bar\", \"x\": [\"International Historic Site\"], \"xaxis\": \"x\", \"y\": [84], \"yaxis\": \"y\"}],\n",
       "                        {\"barmode\": \"relative\", \"legend\": {\"title\": {\"text\": \"Park Type\"}, \"tracegroupgap\": 0}, \"margin\": {\"t\": 60}, \"template\": {\"data\": {\"bar\": [{\"error_x\": {\"color\": \"#2a3f5f\"}, \"error_y\": {\"color\": \"#2a3f5f\"}, \"marker\": {\"line\": {\"color\": \"#E5ECF6\", \"width\": 0.5}}, \"type\": \"bar\"}], \"barpolar\": [{\"marker\": {\"line\": {\"color\": \"#E5ECF6\", \"width\": 0.5}}, \"type\": \"barpolar\"}], \"carpet\": [{\"aaxis\": {\"endlinecolor\": \"#2a3f5f\", \"gridcolor\": \"white\", \"linecolor\": \"white\", \"minorgridcolor\": \"white\", \"startlinecolor\": \"#2a3f5f\"}, \"baxis\": {\"endlinecolor\": \"#2a3f5f\", \"gridcolor\": \"white\", \"linecolor\": \"white\", \"minorgridcolor\": \"white\", \"startlinecolor\": \"#2a3f5f\"}, \"type\": \"carpet\"}], \"choropleth\": [{\"colorbar\": {\"outlinewidth\": 0, \"ticks\": \"\"}, \"type\": \"choropleth\"}], \"contour\": [{\"colorbar\": {\"outlinewidth\": 0, \"ticks\": \"\"}, \"colorscale\": [[0.0, \"#0d0887\"], [0.1111111111111111, \"#46039f\"], [0.2222222222222222, \"#7201a8\"], [0.3333333333333333, \"#9c179e\"], [0.4444444444444444, \"#bd3786\"], [0.5555555555555556, \"#d8576b\"], [0.6666666666666666, \"#ed7953\"], [0.7777777777777778, \"#fb9f3a\"], [0.8888888888888888, \"#fdca26\"], [1.0, \"#f0f921\"]], \"type\": \"contour\"}], \"contourcarpet\": [{\"colorbar\": {\"outlinewidth\": 0, \"ticks\": \"\"}, \"type\": \"contourcarpet\"}], \"heatmap\": [{\"colorbar\": {\"outlinewidth\": 0, \"ticks\": \"\"}, \"colorscale\": [[0.0, \"#0d0887\"], [0.1111111111111111, \"#46039f\"], [0.2222222222222222, \"#7201a8\"], [0.3333333333333333, \"#9c179e\"], [0.4444444444444444, \"#bd3786\"], [0.5555555555555556, \"#d8576b\"], [0.6666666666666666, \"#ed7953\"], [0.7777777777777778, \"#fb9f3a\"], [0.8888888888888888, \"#fdca26\"], [1.0, \"#f0f921\"]], \"type\": \"heatmap\"}], \"heatmapgl\": [{\"colorbar\": {\"outlinewidth\": 0, \"ticks\": \"\"}, \"colorscale\": [[0.0, \"#0d0887\"], [0.1111111111111111, \"#46039f\"], [0.2222222222222222, \"#7201a8\"], [0.3333333333333333, \"#9c179e\"], [0.4444444444444444, \"#bd3786\"], [0.5555555555555556, \"#d8576b\"], [0.6666666666666666, \"#ed7953\"], [0.7777777777777778, \"#fb9f3a\"], [0.8888888888888888, \"#fdca26\"], [1.0, \"#f0f921\"]], \"type\": \"heatmapgl\"}], \"histogram\": [{\"marker\": {\"colorbar\": {\"outlinewidth\": 0, \"ticks\": \"\"}}, \"type\": \"histogram\"}], \"histogram2d\": [{\"colorbar\": {\"outlinewidth\": 0, \"ticks\": \"\"}, \"colorscale\": [[0.0, \"#0d0887\"], [0.1111111111111111, \"#46039f\"], [0.2222222222222222, \"#7201a8\"], [0.3333333333333333, \"#9c179e\"], [0.4444444444444444, \"#bd3786\"], [0.5555555555555556, \"#d8576b\"], [0.6666666666666666, \"#ed7953\"], [0.7777777777777778, \"#fb9f3a\"], [0.8888888888888888, \"#fdca26\"], [1.0, \"#f0f921\"]], \"type\": \"histogram2d\"}], \"histogram2dcontour\": [{\"colorbar\": {\"outlinewidth\": 0, \"ticks\": \"\"}, \"colorscale\": [[0.0, \"#0d0887\"], [0.1111111111111111, \"#46039f\"], [0.2222222222222222, \"#7201a8\"], [0.3333333333333333, \"#9c179e\"], [0.4444444444444444, \"#bd3786\"], [0.5555555555555556, \"#d8576b\"], [0.6666666666666666, \"#ed7953\"], [0.7777777777777778, \"#fb9f3a\"], [0.8888888888888888, \"#fdca26\"], [1.0, \"#f0f921\"]], \"type\": \"histogram2dcontour\"}], \"mesh3d\": [{\"colorbar\": {\"outlinewidth\": 0, \"ticks\": \"\"}, \"type\": \"mesh3d\"}], \"parcoords\": [{\"line\": {\"colorbar\": {\"outlinewidth\": 0, \"ticks\": \"\"}}, \"type\": \"parcoords\"}], \"pie\": [{\"automargin\": true, \"type\": \"pie\"}], \"scatter\": [{\"marker\": {\"colorbar\": {\"outlinewidth\": 0, \"ticks\": \"\"}}, \"type\": \"scatter\"}], \"scatter3d\": [{\"line\": {\"colorbar\": {\"outlinewidth\": 0, \"ticks\": \"\"}}, \"marker\": {\"colorbar\": {\"outlinewidth\": 0, \"ticks\": \"\"}}, \"type\": \"scatter3d\"}], \"scattercarpet\": [{\"marker\": {\"colorbar\": {\"outlinewidth\": 0, \"ticks\": \"\"}}, \"type\": \"scattercarpet\"}], \"scattergeo\": [{\"marker\": {\"colorbar\": {\"outlinewidth\": 0, \"ticks\": \"\"}}, \"type\": \"scattergeo\"}], \"scattergl\": [{\"marker\": {\"colorbar\": {\"outlinewidth\": 0, \"ticks\": \"\"}}, \"type\": \"scattergl\"}], \"scattermapbox\": [{\"marker\": {\"colorbar\": {\"outlinewidth\": 0, \"ticks\": \"\"}}, \"type\": \"scattermapbox\"}], \"scatterpolar\": [{\"marker\": {\"colorbar\": {\"outlinewidth\": 0, \"ticks\": \"\"}}, \"type\": \"scatterpolar\"}], \"scatterpolargl\": [{\"marker\": {\"colorbar\": {\"outlinewidth\": 0, \"ticks\": \"\"}}, \"type\": \"scatterpolargl\"}], \"scatterternary\": [{\"marker\": {\"colorbar\": {\"outlinewidth\": 0, \"ticks\": \"\"}}, \"type\": \"scatterternary\"}], \"surface\": [{\"colorbar\": {\"outlinewidth\": 0, \"ticks\": \"\"}, \"colorscale\": [[0.0, \"#0d0887\"], [0.1111111111111111, \"#46039f\"], [0.2222222222222222, \"#7201a8\"], [0.3333333333333333, \"#9c179e\"], [0.4444444444444444, \"#bd3786\"], [0.5555555555555556, \"#d8576b\"], [0.6666666666666666, \"#ed7953\"], [0.7777777777777778, \"#fb9f3a\"], [0.8888888888888888, \"#fdca26\"], [1.0, \"#f0f921\"]], \"type\": \"surface\"}], \"table\": [{\"cells\": {\"fill\": {\"color\": \"#EBF0F8\"}, \"line\": {\"color\": \"white\"}}, \"header\": {\"fill\": {\"color\": \"#C8D4E3\"}, \"line\": {\"color\": \"white\"}}, \"type\": \"table\"}]}, \"layout\": {\"annotationdefaults\": {\"arrowcolor\": \"#2a3f5f\", \"arrowhead\": 0, \"arrowwidth\": 1}, \"coloraxis\": {\"colorbar\": {\"outlinewidth\": 0, \"ticks\": \"\"}}, \"colorscale\": {\"diverging\": [[0, \"#8e0152\"], [0.1, \"#c51b7d\"], [0.2, \"#de77ae\"], [0.3, \"#f1b6da\"], [0.4, \"#fde0ef\"], [0.5, \"#f7f7f7\"], [0.6, \"#e6f5d0\"], [0.7, \"#b8e186\"], [0.8, \"#7fbc41\"], [0.9, \"#4d9221\"], [1, \"#276419\"]], \"sequential\": [[0.0, \"#0d0887\"], [0.1111111111111111, \"#46039f\"], [0.2222222222222222, \"#7201a8\"], [0.3333333333333333, \"#9c179e\"], [0.4444444444444444, \"#bd3786\"], [0.5555555555555556, \"#d8576b\"], [0.6666666666666666, \"#ed7953\"], [0.7777777777777778, \"#fb9f3a\"], [0.8888888888888888, \"#fdca26\"], [1.0, \"#f0f921\"]], \"sequentialminus\": [[0.0, \"#0d0887\"], [0.1111111111111111, \"#46039f\"], [0.2222222222222222, \"#7201a8\"], [0.3333333333333333, \"#9c179e\"], [0.4444444444444444, \"#bd3786\"], [0.5555555555555556, \"#d8576b\"], [0.6666666666666666, \"#ed7953\"], [0.7777777777777778, \"#fb9f3a\"], [0.8888888888888888, \"#fdca26\"], [1.0, \"#f0f921\"]]}, \"colorway\": [\"#636efa\", \"#EF553B\", \"#00cc96\", \"#ab63fa\", \"#FFA15A\", \"#19d3f3\", \"#FF6692\", \"#B6E880\", \"#FF97FF\", \"#FECB52\"], \"font\": {\"color\": \"#2a3f5f\"}, \"geo\": {\"bgcolor\": \"white\", \"lakecolor\": \"white\", \"landcolor\": \"#E5ECF6\", \"showlakes\": true, \"showland\": true, \"subunitcolor\": \"white\"}, \"hoverlabel\": {\"align\": \"left\"}, \"hovermode\": \"closest\", \"mapbox\": {\"style\": \"light\"}, \"paper_bgcolor\": \"white\", \"plot_bgcolor\": \"#E5ECF6\", \"polar\": {\"angularaxis\": {\"gridcolor\": \"white\", \"linecolor\": \"white\", \"ticks\": \"\"}, \"bgcolor\": \"#E5ECF6\", \"radialaxis\": {\"gridcolor\": \"white\", \"linecolor\": \"white\", \"ticks\": \"\"}}, \"scene\": {\"xaxis\": {\"backgroundcolor\": \"#E5ECF6\", \"gridcolor\": \"white\", \"gridwidth\": 2, \"linecolor\": \"white\", \"showbackground\": true, \"ticks\": \"\", \"zerolinecolor\": \"white\"}, \"yaxis\": {\"backgroundcolor\": \"#E5ECF6\", \"gridcolor\": \"white\", \"gridwidth\": 2, \"linecolor\": \"white\", \"showbackground\": true, \"ticks\": \"\", \"zerolinecolor\": \"white\"}, \"zaxis\": {\"backgroundcolor\": \"#E5ECF6\", \"gridcolor\": \"white\", \"gridwidth\": 2, \"linecolor\": \"white\", \"showbackground\": true, \"ticks\": \"\", \"zerolinecolor\": \"white\"}}, \"shapedefaults\": {\"line\": {\"color\": \"#2a3f5f\"}}, \"ternary\": {\"aaxis\": {\"gridcolor\": \"white\", \"linecolor\": \"white\", \"ticks\": \"\"}, \"baxis\": {\"gridcolor\": \"white\", \"linecolor\": \"white\", \"ticks\": \"\"}, \"bgcolor\": \"#E5ECF6\", \"caxis\": {\"gridcolor\": \"white\", \"linecolor\": \"white\", \"ticks\": \"\"}}, \"title\": {\"x\": 0.05}, \"xaxis\": {\"automargin\": true, \"gridcolor\": \"white\", \"linecolor\": \"white\", \"ticks\": \"\", \"title\": {\"standoff\": 15}, \"zerolinecolor\": \"white\", \"zerolinewidth\": 2}, \"yaxis\": {\"automargin\": true, \"gridcolor\": \"white\", \"linecolor\": \"white\", \"ticks\": \"\", \"title\": {\"standoff\": 15}, \"zerolinecolor\": \"white\", \"zerolinewidth\": 2}}}, \"xaxis\": {\"anchor\": \"y\", \"categoryarray\": [\"National Historic Site\", \"National Monument\", \"National Park\", \"National Historical Park\", \"National Memorial\", \"National Recreation Area\", \"Park (Other)\", \"National Seashore\", \"National Battlefield\", \"National Preserve\", \"National Military Park\", \"National Wild & Scenic River\", \"National River\", \"National Parkway\", \"National Battlefield Park\", \"National Lakeshore\", \"National Reserve\", \"International Historic Site\"], \"categoryorder\": \"array\", \"domain\": [0.0, 1.0], \"title\": {\"text\": \"Park Type\"}}, \"yaxis\": {\"anchor\": \"x\", \"domain\": [0.0, 1.0], \"title\": {\"text\": \"count\"}}},\n",
       "                        {\"responsive\": true}\n",
       "                    ).then(function(){\n",
       "                            \n",
       "var gd = document.getElementById('ebc34263-ac0e-43bf-99d9-ae02e9ad0cd5');\n",
       "var x = new MutationObserver(function (mutations, observer) {{\n",
       "        var display = window.getComputedStyle(gd).display;\n",
       "        if (!display || display === 'none') {{\n",
       "            console.log([gd, 'removed!']);\n",
       "            Plotly.purge(gd);\n",
       "            observer.disconnect();\n",
       "        }}\n",
       "}});\n",
       "\n",
       "// Listen for the removal of the full notebook cells\n",
       "var notebookContainer = gd.closest('#notebook-container');\n",
       "if (notebookContainer) {{\n",
       "    x.observe(notebookContainer, {childList: true});\n",
       "}}\n",
       "\n",
       "// Listen for the clearing of the current output cell\n",
       "var outputEl = gd.closest('.output');\n",
       "if (outputEl) {{\n",
       "    x.observe(outputEl, {childList: true});\n",
       "}}\n",
       "\n",
       "                        })\n",
       "                };\n",
       "                });\n",
       "            </script>\n",
       "        </div>"
      ]
     },
     "metadata": {},
     "output_type": "display_data"
    }
   ],
   "source": [
    "pipeline = [\n",
    "             {\"$unwind\": \"$ParkType\"},\n",
    "             {\"$group\": {\"_id\": \"$ParkType\", \"count\": {\"$sum\": 1}}},\n",
    "             {\"$sort\": SON([(\"count\", -1), (\"_id\", -1)])}\n",
    "           ]\n",
    "y = pd.DataFrame(list(US_Parks_collection.aggregate(pipeline)))    \n",
    "y = y.rename(columns={\"_id\": \"Park Type\"})\n",
    "fig = px.bar(y, x='Park Type', y='count',hover_data=['count'],color='Park Type')\n",
    "fig.show()"
   ]
  },
  {
   "cell_type": "markdown",
   "metadata": {},
   "source": [
    "### PyMongo aggregation function to group each park type and visualize coutrywide spread on scatter plot"
   ]
  },
  {
   "cell_type": "code",
   "execution_count": 13,
   "metadata": {},
   "outputs": [],
   "source": [
    "def sactter_plot_US(data):\n",
    "    data['text'] = data['_id']+ ''+data['count'].astype(str)\n",
    "    fig = go.Figure(data=go.Scattergeo(\n",
    "            locationmode = 'USA-states', \n",
    "            lon = data['Longitude'],\n",
    "            lat = data['Latitude'],\n",
    "            text = data['text'],\n",
    "            mode = 'markers',\n",
    "            marker = dict(\n",
    "                            size = 8,\n",
    "                            opacity = 0.99,\n",
    "                            reversescale = True,\n",
    "                            autocolorscale = False,\n",
    "                            symbol = 'square',\n",
    "                            line = dict(\n",
    "                                width=1,\n",
    "                                color='rgba(102, 102, 102)'\n",
    "                    ),\n",
    "            colorscale = px.colors.sequential.Inferno,\n",
    "            cmin = 0,\n",
    "            color = data['count'],\n",
    "            cmax = data['count'].max(),\n",
    "            colorbar_title=\"Count of recreational, RV and Campers visits\"\n",
    "            )))\n",
    "\n",
    "    fig.update_layout(\n",
    "        title = 'Spread of different park types across US)',\n",
    "        geo = dict(\n",
    "            scope='usa',\n",
    "            projection_type='albers usa',\n",
    "            showland = True,\n",
    "            landcolor = \"rgb(250, 250, 250)\",\n",
    "            subunitcolor = \"rgb(217, 217, 217)\",\n",
    "            countrycolor = \"rgb(217, 217, 217)\",\n",
    "            countrywidth = 0.5,\n",
    "            subunitwidth = 0.5\n",
    "              ),\n",
    "    )\n",
    "      \n",
    "    fig.show()"
   ]
  },
  {
   "cell_type": "code",
   "execution_count": 14,
   "metadata": {},
   "outputs": [],
   "source": [
    "def scatter_plot(parktype):\n",
    "    x = pd.DataFrame(list(US_Parks_collection.aggregate( [\n",
    "                                        {\"$match\":{'ParkType':parktype}},\n",
    "                                        {\"$group\":{\n",
    "                                                   \"_id\":\"$Park\",\n",
    "                                                   \"count\": { \"$sum\": { \"$add\" : [ \n",
    "                                            '$RecreationVisits', '$TentCampers','$RVCampers']}},\n",
    "                                        }},\n",
    "                                        {\"$sort\":{\"_id\":1}}\n",
    "                                     ]\n",
    "                                        )))\n",
    "    lat_long = pd.DataFrame(list(US_Parks_collection.find(\n",
    "                                            {'ParkType':'National Historical Park'},\n",
    "                                            {\"_id\":0,\"Latitude\":1,\"Longitude\":1})\n",
    "                                 )).drop_duplicates().reset_index(drop=True)\n",
    "    x['Latitude'] = lat_long['Latitude']\n",
    "    x['Longitude'] = lat_long['Longitude']\n",
    "    \n",
    "    sactter_plot_US(x)"
   ]
  },
  {
   "cell_type": "code",
   "execution_count": 15,
   "metadata": {},
   "outputs": [
    {
     "data": {
      "application/vnd.jupyter.widget-view+json": {
       "model_id": "6b2033c7dff34a098a401184a8e39386",
       "version_major": 2,
       "version_minor": 0
      },
      "text/plain": [
       "interactive(children=(Dropdown(description='parktype', options=('National Historical Park', 'National Park', '…"
      ]
     },
     "metadata": {},
     "output_type": "display_data"
    }
   ],
   "source": [
    "interact(scatter_plot, parktype=data.ParkType.unique());"
   ]
  },
  {
   "cell_type": "markdown",
   "metadata": {},
   "source": [
    "### Pymongo Visualize the number of RecreationVisits, Tent campers and RV campers"
   ]
  },
  {
   "cell_type": "code",
   "execution_count": 16,
   "metadata": {},
   "outputs": [],
   "source": [
    "def plot_aggregate_metrics(df):\n",
    "    \n",
    "    fig = go.Figure()\n",
    "    fig.update_layout(template='plotly_dark')\n",
    "\n",
    "    fig.add_trace(go.Scatter(x=df['Month'], \n",
    "                             y=df['RecreationVisits'],\n",
    "                             mode='markers',\n",
    "                             name='RecreationVisits',\n",
    "                             line=dict(color='Yellow', width=2)\n",
    "                            ))\n",
    "    fig.add_trace(go.Scatter(x=df['Month'], \n",
    "                             y=df['TentCampers'],\n",
    "                             mode='markers',\n",
    "                             name='TentCampers',\n",
    "                             line=dict(color='Red', width=2)\n",
    "                            ))\n",
    "    fig.add_trace(go.Scatter(x=df['Month'], \n",
    "                             y=df['RVCampers'],\n",
    "                             mode='markers',\n",
    "                             name='RVCampers',\n",
    "                             line=dict(color='Green', width=2)\n",
    "                            ))\n",
    "    fig.update_layout(title='Monthly count of visitors in each category')\n",
    "    fig.update_yaxes(title_text='Count of visitors')\n",
    "    fig.update_xaxes(title_text='Month from January to December')\n",
    "\n",
    "    return fig"
   ]
  },
  {
   "cell_type": "code",
   "execution_count": 17,
   "metadata": {},
   "outputs": [],
   "source": [
    "def plot_scatter(park,year):\n",
    "    data = pd.DataFrame(list(US_Parks_collection.find({\"$and\":[{'Park':park},{'Year':year.item()}]})))\n",
    "    return plot_aggregate_metrics(data)"
   ]
  },
  {
   "cell_type": "code",
   "execution_count": 18,
   "metadata": {},
   "outputs": [
    {
     "data": {
      "application/vnd.jupyter.widget-view+json": {
       "model_id": "77bd95b4b83143af88b48f4c27c425fb",
       "version_major": 2,
       "version_minor": 0
      },
      "text/plain": [
       "interactive(children=(Dropdown(description='park', options=('Abraham Lincoln Birthplace NHP', 'Acadia NP', 'Ad…"
      ]
     },
     "metadata": {},
     "output_type": "display_data"
    }
   ],
   "source": [
    "interact(plot_scatter, park=data.Park.unique(),year=data.Year.unique());"
   ]
  },
  {
   "cell_type": "markdown",
   "metadata": {},
   "source": [
    "### Pymongo Visualize the number of RecreationVisits, Tent campers and RV campers on 10 year average"
   ]
  },
  {
   "cell_type": "code",
   "execution_count": 19,
   "metadata": {},
   "outputs": [],
   "source": [
    "def plot_line(park):\n",
    "    recreation = pd.DataFrame(list(US_Parks_collection.aggregate( [\n",
    "                                        {\"$match\":{'Park':park}},\n",
    "                                        {\n",
    "                                            \"$group\":{\"_id\":\"$Month\",\n",
    "                                                      \"Count\":{\"$sum\":\"$RecreationVisits\"},\n",
    "                                                     }\n",
    "                                        },\n",
    "                                        {\"$sort\":{\"_id\":1}}\n",
    "                                     ]\n",
    "                                        )))\n",
    "    campers = pd.DataFrame(list(US_Parks_collection.aggregate( [\n",
    "                                        {\"$match\":{'Park':park}},\n",
    "                                        {\n",
    "                                            \"$group\":{\"_id\":\"$Month\",\n",
    "                                                      \"Count\":{\"$sum\":\"$TentCampers\"},\n",
    "                                                     }\n",
    "                                        },\n",
    "                                        {\"$sort\":{\"_id\":1}}\n",
    "                                     ]\n",
    "                                        )))\n",
    "    rvcampers = pd.DataFrame(list(US_Parks_collection.aggregate( [\n",
    "                                        {\"$match\":{'Park':park}},\n",
    "                                        {\n",
    "                                            \"$group\":{\"_id\":\"$Month\",\n",
    "                                                      \"Count\":{\"$sum\":\"$RVCampers\"},\n",
    "                                                     }\n",
    "                                        },\n",
    "                                        {\"$sort\":{\"_id\":1}}\n",
    "                                     ]\n",
    "                                        )))\n",
    "\n",
    "\n",
    "    \n",
    "    recreation['Type'] = 'RecreationVisits'\n",
    "    campers['Type'] = 'TentCampers'\n",
    "    rvcampers['Type'] = 'RVCampers'\n",
    "    \n",
    "\n",
    "    result = pd.concat([recreation, campers, rvcampers],axis=0)\n",
    "    \n",
    "    fig = px.line(result, x='_id', y='Count',color='Type', line_group=\"Type\", hover_name=\"Type\")\n",
    "    \n",
    "    fig.update_layout(title='Monthly average count of visitors for past 10 years', template='plotly_dark',showlegend=True, )\n",
    "    \n",
    "    fig.update_xaxes(title_text='Months from January to December')\n",
    "    fig.update_yaxes(title_text='Average 10 year count of visitors')\n",
    "    fig.show()"
   ]
  },
  {
   "cell_type": "code",
   "execution_count": 20,
   "metadata": {},
   "outputs": [
    {
     "data": {
      "application/vnd.jupyter.widget-view+json": {
       "model_id": "43b8735c9f4a407aa7e29d7913234745",
       "version_major": 2,
       "version_minor": 0
      },
      "text/plain": [
       "interactive(children=(Dropdown(description='park', options=('Abraham Lincoln Birthplace NHP', 'Acadia NP', 'Ad…"
      ]
     },
     "metadata": {},
     "output_type": "display_data"
    }
   ],
   "source": [
    "interact(plot_line, park=data.Park.unique());"
   ]
  },
  {
   "cell_type": "markdown",
   "metadata": {},
   "source": [
    "### Count of visitors for specific park in specific year and month"
   ]
  },
  {
   "cell_type": "code",
   "execution_count": 74,
   "metadata": {},
   "outputs": [
    {
     "data": {
      "application/vnd.jupyter.widget-view+json": {
       "model_id": "7411cce650c64bbe93a4947a46022ceb",
       "version_major": 2,
       "version_minor": 0
      },
      "text/plain": [
       "interactive(children=(Dropdown(description='park', options=('Abraham Lincoln Birthplace NHP', 'Acadia NP', 'Ad…"
      ]
     },
     "metadata": {},
     "output_type": "display_data"
    }
   ],
   "source": [
    "def park_count(park,year,month):\n",
    "    recreation = pd.DataFrame(list(US_Parks_collection.aggregate( [\n",
    "                                        {\"$match\": {\"$and\": [{ 'Park':park },\n",
    "                                                             {'Year':year.item()},\n",
    "                                                             {'Month':month.item()}]}},\n",
    "                                        {\n",
    "                                            \"$group\":{\"_id\":\"$Month\",\n",
    "                                                      \"Count\":{\"$sum\":\"$RecreationVisits\"},\n",
    "                                                     }\n",
    "                                        },\n",
    "                                        {\"$project\":{\"_id\":0,'Recreation Type': 'Recreation Visit',\"Count\":1}}\n",
    "                                     ]\n",
    "                                        )))\n",
    "\n",
    "    campers = pd.DataFrame(list(US_Parks_collection.aggregate( [\n",
    "                                        {\"$match\": {\"$and\": [{ 'Park':park },\n",
    "                                                             {'Year':year.item()},\n",
    "                                                             {'Month':month.item()}]}},\n",
    "                                        {\n",
    "                                            \"$group\":{\"_id\":\"$Month\",\n",
    "                                                      \"Count\":{\"$sum\":\"$TentCampers\"},\n",
    "                                                     }\n",
    "                                        },\n",
    "                                        {\"$project\":{\"_id\":0,'Recreation Type': 'Tent Campers',\"Count\":1}}\n",
    "                                     ]\n",
    "                                        )))\n",
    "    rvcampers = pd.DataFrame(list(US_Parks_collection.aggregate( [\n",
    "                                        {\"$match\": {\"$and\": [{ 'Park':park },\n",
    "                                                             {'Year':year.item()},\n",
    "                                                             {'Month':month.item()}]}},\n",
    "                                        {\n",
    "                                            \"$group\":{\"_id\":\"$Month\",\n",
    "                                                      \"Count\":{\"$sum\":\"$RVCampers\"},\n",
    "                                                     }\n",
    "                                        },\n",
    "        \n",
    "                                        {\"$project\":{\"_id\":0,'Recreation Type': 'RV Campers',\"Count\":1}}\n",
    "                                     ]\n",
    "                                        )))\n",
    "    result = pd.concat([recreation, campers, rvcampers],axis=0)\n",
    "    result = result.rename(columns={\"_id\": \"Park Type\"})\n",
    "    fig = px.bar(result, x='Recreation Type', y='Count',hover_data=['Count'],color='Recreation Type')\n",
    "    fig.update_layout(title='Count of recreation types for each park based on month of an year', template='plotly_dark',showlegend=True, )\n",
    "    \n",
    "    fig.update_xaxes(title_text='Recreation Type')\n",
    "    fig.update_yaxes(title_text='Count of each recreation types')\n",
    "    fig.show()\n",
    "    \n",
    "interact(park_count, park=data.Park.unique(),year=data.Year.unique(),month=data.Month.unique());"
   ]
  },
  {
   "cell_type": "markdown",
   "metadata": {},
   "source": [
    "### Statewise Park type count"
   ]
  },
  {
   "cell_type": "code",
   "execution_count": 71,
   "metadata": {},
   "outputs": [
    {
     "data": {
      "application/vnd.jupyter.widget-view+json": {
       "model_id": "7d375741bca146beadc9796a09208694",
       "version_major": 2,
       "version_minor": 0
      },
      "text/plain": [
       "interactive(children=(Dropdown(description='state', options=('Kentucky', 'Maine', 'Massachusetts', 'New York',…"
      ]
     },
     "metadata": {},
     "output_type": "display_data"
    }
   ],
   "source": [
    "def park_count(state):\n",
    "    result = pd.DataFrame(list(US_Parks_collection.aggregate( [\n",
    "                                        {\"$match\":{'State':state}},\n",
    "                                        {\"$group\": {\"_id\": \"$ParkType\", \"count\": {\"$sum\": 1}}},\n",
    "                                        {\"$sort\": SON([(\"count\", -1), (\"_id\", -1)])},\n",
    "                                        \n",
    "                                     ]\n",
    "                                        )))\n",
    "\n",
    "    result = result.rename(columns={\"_id\": \"Park Type\"})\n",
    "\n",
    "    fig = px.bar(result, x='Park Type', y='count',hover_data=['count'],color='Park Type')\n",
    "    fig.update_layout(title='Count of park types in a state', template='plotly_dark',showlegend=True, )\n",
    "    \n",
    "    fig.update_xaxes(title_text='Park Type')\n",
    "    fig.update_yaxes(title_text='Count of each park types')\n",
    "    fig.show()\n",
    "interact(park_count, state=data.State.unique());"
   ]
  },
  {
   "cell_type": "code",
   "execution_count": null,
   "metadata": {},
   "outputs": [],
   "source": []
  }
 ],
 "metadata": {
  "kernelspec": {
   "display_name": "Python 3",
   "language": "python",
   "name": "python3"
  },
  "language_info": {
   "codemirror_mode": {
    "name": "ipython",
    "version": 3
   },
   "file_extension": ".py",
   "mimetype": "text/x-python",
   "name": "python",
   "nbconvert_exporter": "python",
   "pygments_lexer": "ipython3",
   "version": "3.7.3"
  },
  "toc": {
   "base_numbering": 1,
   "nav_menu": {},
   "number_sections": true,
   "sideBar": true,
   "skip_h1_title": false,
   "title_cell": "Table of Contents",
   "title_sidebar": "Contents",
   "toc_cell": false,
   "toc_position": {},
   "toc_section_display": true,
   "toc_window_display": false
  }
 },
 "nbformat": 4,
 "nbformat_minor": 4
}
