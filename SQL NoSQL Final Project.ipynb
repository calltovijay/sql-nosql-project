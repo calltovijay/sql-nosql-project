{
 "cells": [
  {
   "cell_type": "markdown",
   "metadata": {},
   "source": [
    "<h1 align=center>SP20: SQL AND NOSQL: 12147</h1> \n",
    "<h1 align=center>US Parks</h1>\n",
    "<h3>Project Team</h3>\n",
    "<li>Huzefa Igatpuriwala - higatpur@iu.edu</li>\n",
    "<li>Saurabh Swaroop - sswaroop@iu.edu</li>\n",
    "<li>Vijayakumar Perumalsamy - vperumal@iu.edu </li>\n"
   ]
  },
  {
   "cell_type": "markdown",
   "metadata": {},
   "source": [
    "<h5><b>Objective:</b></h5>\n",
    "To gain more insights from the given NPS dataset. "
   ]
  },
  {
   "cell_type": "code",
   "execution_count": 29,
   "metadata": {},
   "outputs": [],
   "source": [
    "import pandas as pd\n",
    "import numpy as np"
   ]
  },
  {
   "cell_type": "markdown",
   "metadata": {},
   "source": [
    "<h3>Data Preprocessing</h3>\n",
    "\n",
    "The following datasets are mainly used for this visualization.\n",
    "<ul>\n",
    "<li>US Parks Visitors Last 10 years.csv</li>\n",
    "<li>geo_locations.csv</li>\n",
    "<li>us_states_abbr.csv</li>\n",
    "</ul>\n",
    "<br>\n",
    "Read complete US Parks dataset which includes last 10 years of RV campers, Tent Campers and Recreational Visits data by month/year and process the same."
   ]
  },
  {
   "cell_type": "code",
   "execution_count": 30,
   "metadata": {},
   "outputs": [
    {
     "name": "stdout",
     "output_type": "stream",
     "text": [
      "List of columns available in National Parks dataset:\n",
      "Index(['Park', 'UnitCode', 'ParkType', 'Region', 'State', 'Year', 'Month',\n",
      "       'RecreationVisits', 'TentCampers', 'RVCampers'],\n",
      "      dtype='object')\n"
     ]
    }
   ],
   "source": [
    "np_df=pd.read_csv(\"US Parks Visitors Last 10 years.csv\")\n",
    "print(\"List of columns available in National Parks dataset:\")\n",
    "print(np_df.columns)"
   ]
  },
  {
   "cell_type": "code",
   "execution_count": 31,
   "metadata": {},
   "outputs": [
    {
     "name": "stdout",
     "output_type": "stream",
     "text": [
      "National Parks dataset shape: (53296, 10)\n",
      "National Parks dataset sample:                              Park UnitCode                  ParkType  \\\n",
      "0  Abraham Lincoln Birthplace NHP     ABLI  National Historical Park   \n",
      "\n",
      "       Region State  Year  Month  RecreationVisits  TentCampers  RVCampers  \n",
      "0  Southeast     KY  2008      1              5829            0          0  \n"
     ]
    }
   ],
   "source": [
    "print(\"National Parks dataset shape:\",np_df.shape)\n",
    "print(\"National Parks dataset sample:\",np_df.head(1))"
   ]
  },
  {
   "cell_type": "markdown",
   "metadata": {},
   "source": [
    "<h4>Geolocations data collection based on each National Park address</h4>\n",
    "Populated latitude and longitude data from Google API URL for the given park address and API key and updated geo_locations.csv dataset accordingly. Refer the attached <b>Lat-Long-Google.ipynb</b> for more details. \n",
    "<br><br>\n",
    "<b>Google API URL:</b> <a>https://maps.googleapis.com/maps/api/geocode/json?address={}&key={}</a>\n",
    "\n",
    "Read geo-coordinates data from geo_locations.csv."
   ]
  },
  {
   "cell_type": "code",
   "execution_count": 32,
   "metadata": {},
   "outputs": [
    {
     "name": "stdout",
     "output_type": "stream",
     "text": [
      "List of columns available in National Park Locations dataset:\n",
      "Index(['UnitCode', 'ParkName', 'State_Abbr', 'Country', 'Latitude',\n",
      "       'Longitude'],\n",
      "      dtype='object')\n",
      "National Park Locations dataset shape: (379, 6)\n",
      "National Park Locations dataset sample:\n",
      "  UnitCode                        ParkName State_Abbr Country   Latitude  \\\n",
      "0     ABLI  Abraham Lincoln Birthplace NHP         KY     USA  37.531540   \n",
      "1     ACAD                       Acadia NP         ME     USA  44.338556   \n",
      "2     ADAM                       Adams NHP         MA     USA  42.239235   \n",
      "3     AFBG        African Burial Ground NM         NY     USA  40.714537   \n",
      "4     AGFO            Agate Fossil Beds NM         NE     USA  42.425210   \n",
      "\n",
      "    Longitude  \n",
      "0  -85.735254  \n",
      "1  -68.273335  \n",
      "2  -71.003528  \n",
      "3  -74.004467  \n",
      "4 -103.734240  \n"
     ]
    }
   ],
   "source": [
    "np_df_loc=pd.read_csv(\"geo_locations.csv\")\n",
    "np_df_loc= np_df_loc.rename(columns={\"State\": \"State_Abbr\"})\n",
    "np_df_loc.reset_index()\n",
    "print(\"List of columns available in National Park Locations dataset:\")\n",
    "print(np_df_loc.columns)\n",
    "\n",
    "print(\"National Park Locations dataset shape:\",np_df_loc.shape)\n",
    "print(\"National Park Locations dataset sample:\")\n",
    "print(np_df_loc.head(5))"
   ]
  },
  {
   "cell_type": "markdown",
   "metadata": {},
   "source": [
    "Read US state full names and abbreviations dataset."
   ]
  },
  {
   "cell_type": "code",
   "execution_count": 33,
   "metadata": {},
   "outputs": [
    {
     "name": "stdout",
     "output_type": "stream",
     "text": [
      "List of columns available in US state abbrevation dataset:\n",
      "Index(['State', 'State_Abbr'], dtype='object')\n",
      "US state abbrevation dataset shape: (50, 2)\n",
      "US state abbrevation dataset sample:          State State_Abbr\n",
      "0     Alabama          AL\n",
      "1      Alaska          AK\n",
      "2     Arizona          AZ\n",
      "3    Arkansas          AR\n",
      "4  California          CA\n"
     ]
    }
   ],
   "source": [
    "us_states_abbr_df=pd.read_csv(\"us_states_abbr.csv\")\n",
    "print(\"List of columns available in US state abbrevation dataset:\")\n",
    "print(us_states_abbr_df.columns)\n",
    "\n",
    "print(\"US state abbrevation dataset shape:\",us_states_abbr_df.shape)\n",
    "print(\"US state abbrevation dataset sample:\",us_states_abbr_df.head(5))\n",
    "\n",
    "#Trim the state_abbr column values\n",
    "us_states_abbr_df.State_Abbr = us_states_abbr_df.State_Abbr.str.strip()\n",
    "us_states_abbr_df=us_states_abbr_df.set_index('State_Abbr')"
   ]
  },
  {
   "cell_type": "markdown",
   "metadata": {},
   "source": [
    "##### Merge both National Park and US state abbreviations dataset to include state full name \n"
   ]
  },
  {
   "cell_type": "code",
   "execution_count": 39,
   "metadata": {},
   "outputs": [
    {
     "data": {
      "text/html": [
       "<div>\n",
       "<style scoped>\n",
       "    .dataframe tbody tr th:only-of-type {\n",
       "        vertical-align: middle;\n",
       "    }\n",
       "\n",
       "    .dataframe tbody tr th {\n",
       "        vertical-align: top;\n",
       "    }\n",
       "\n",
       "    .dataframe thead th {\n",
       "        text-align: right;\n",
       "    }\n",
       "</style>\n",
       "<table border=\"1\" class=\"dataframe\">\n",
       "  <thead>\n",
       "    <tr style=\"text-align: right;\">\n",
       "      <th></th>\n",
       "      <th>Park</th>\n",
       "      <th>UnitCode</th>\n",
       "      <th>ParkType</th>\n",
       "      <th>Region</th>\n",
       "      <th>State_Abbr</th>\n",
       "      <th>Year</th>\n",
       "      <th>Month</th>\n",
       "      <th>RecreationVisits</th>\n",
       "      <th>TentCampers</th>\n",
       "      <th>RVCampers</th>\n",
       "      <th>State</th>\n",
       "    </tr>\n",
       "  </thead>\n",
       "  <tbody>\n",
       "    <tr>\n",
       "      <td>0</td>\n",
       "      <td>Abraham Lincoln Birthplace NHP</td>\n",
       "      <td>ABLI</td>\n",
       "      <td>National Historical Park</td>\n",
       "      <td>Southeast</td>\n",
       "      <td>KY</td>\n",
       "      <td>2008</td>\n",
       "      <td>1</td>\n",
       "      <td>5829</td>\n",
       "      <td>0</td>\n",
       "      <td>0</td>\n",
       "      <td>Kentucky</td>\n",
       "    </tr>\n",
       "    <tr>\n",
       "      <td>1</td>\n",
       "      <td>Abraham Lincoln Birthplace NHP</td>\n",
       "      <td>ABLI</td>\n",
       "      <td>National Historical Park</td>\n",
       "      <td>Southeast</td>\n",
       "      <td>KY</td>\n",
       "      <td>2008</td>\n",
       "      <td>2</td>\n",
       "      <td>6911</td>\n",
       "      <td>0</td>\n",
       "      <td>0</td>\n",
       "      <td>Kentucky</td>\n",
       "    </tr>\n",
       "    <tr>\n",
       "      <td>2</td>\n",
       "      <td>Abraham Lincoln Birthplace NHP</td>\n",
       "      <td>ABLI</td>\n",
       "      <td>National Historical Park</td>\n",
       "      <td>Southeast</td>\n",
       "      <td>KY</td>\n",
       "      <td>2008</td>\n",
       "      <td>3</td>\n",
       "      <td>10720</td>\n",
       "      <td>0</td>\n",
       "      <td>0</td>\n",
       "      <td>Kentucky</td>\n",
       "    </tr>\n",
       "    <tr>\n",
       "      <td>3</td>\n",
       "      <td>Abraham Lincoln Birthplace NHP</td>\n",
       "      <td>ABLI</td>\n",
       "      <td>National Historical Park</td>\n",
       "      <td>Southeast</td>\n",
       "      <td>KY</td>\n",
       "      <td>2008</td>\n",
       "      <td>4</td>\n",
       "      <td>17829</td>\n",
       "      <td>0</td>\n",
       "      <td>0</td>\n",
       "      <td>Kentucky</td>\n",
       "    </tr>\n",
       "    <tr>\n",
       "      <td>4</td>\n",
       "      <td>Abraham Lincoln Birthplace NHP</td>\n",
       "      <td>ABLI</td>\n",
       "      <td>National Historical Park</td>\n",
       "      <td>Southeast</td>\n",
       "      <td>KY</td>\n",
       "      <td>2008</td>\n",
       "      <td>5</td>\n",
       "      <td>26295</td>\n",
       "      <td>0</td>\n",
       "      <td>0</td>\n",
       "      <td>Kentucky</td>\n",
       "    </tr>\n",
       "    <tr>\n",
       "      <td>5</td>\n",
       "      <td>Abraham Lincoln Birthplace NHP</td>\n",
       "      <td>ABLI</td>\n",
       "      <td>National Historical Park</td>\n",
       "      <td>Southeast</td>\n",
       "      <td>KY</td>\n",
       "      <td>2008</td>\n",
       "      <td>6</td>\n",
       "      <td>33817</td>\n",
       "      <td>0</td>\n",
       "      <td>0</td>\n",
       "      <td>Kentucky</td>\n",
       "    </tr>\n",
       "    <tr>\n",
       "      <td>6</td>\n",
       "      <td>Abraham Lincoln Birthplace NHP</td>\n",
       "      <td>ABLI</td>\n",
       "      <td>National Historical Park</td>\n",
       "      <td>Southeast</td>\n",
       "      <td>KY</td>\n",
       "      <td>2008</td>\n",
       "      <td>7</td>\n",
       "      <td>29225</td>\n",
       "      <td>0</td>\n",
       "      <td>0</td>\n",
       "      <td>Kentucky</td>\n",
       "    </tr>\n",
       "    <tr>\n",
       "      <td>7</td>\n",
       "      <td>Abraham Lincoln Birthplace NHP</td>\n",
       "      <td>ABLI</td>\n",
       "      <td>National Historical Park</td>\n",
       "      <td>Southeast</td>\n",
       "      <td>KY</td>\n",
       "      <td>2008</td>\n",
       "      <td>8</td>\n",
       "      <td>22166</td>\n",
       "      <td>0</td>\n",
       "      <td>0</td>\n",
       "      <td>Kentucky</td>\n",
       "    </tr>\n",
       "    <tr>\n",
       "      <td>8</td>\n",
       "      <td>Abraham Lincoln Birthplace NHP</td>\n",
       "      <td>ABLI</td>\n",
       "      <td>National Historical Park</td>\n",
       "      <td>Southeast</td>\n",
       "      <td>KY</td>\n",
       "      <td>2008</td>\n",
       "      <td>9</td>\n",
       "      <td>21765</td>\n",
       "      <td>0</td>\n",
       "      <td>0</td>\n",
       "      <td>Kentucky</td>\n",
       "    </tr>\n",
       "    <tr>\n",
       "      <td>9</td>\n",
       "      <td>Abraham Lincoln Birthplace NHP</td>\n",
       "      <td>ABLI</td>\n",
       "      <td>National Historical Park</td>\n",
       "      <td>Southeast</td>\n",
       "      <td>KY</td>\n",
       "      <td>2008</td>\n",
       "      <td>10</td>\n",
       "      <td>13747</td>\n",
       "      <td>0</td>\n",
       "      <td>0</td>\n",
       "      <td>Kentucky</td>\n",
       "    </tr>\n",
       "  </tbody>\n",
       "</table>\n",
       "</div>"
      ],
      "text/plain": [
       "                             Park UnitCode                  ParkType  \\\n",
       "0  Abraham Lincoln Birthplace NHP     ABLI  National Historical Park   \n",
       "1  Abraham Lincoln Birthplace NHP     ABLI  National Historical Park   \n",
       "2  Abraham Lincoln Birthplace NHP     ABLI  National Historical Park   \n",
       "3  Abraham Lincoln Birthplace NHP     ABLI  National Historical Park   \n",
       "4  Abraham Lincoln Birthplace NHP     ABLI  National Historical Park   \n",
       "5  Abraham Lincoln Birthplace NHP     ABLI  National Historical Park   \n",
       "6  Abraham Lincoln Birthplace NHP     ABLI  National Historical Park   \n",
       "7  Abraham Lincoln Birthplace NHP     ABLI  National Historical Park   \n",
       "8  Abraham Lincoln Birthplace NHP     ABLI  National Historical Park   \n",
       "9  Abraham Lincoln Birthplace NHP     ABLI  National Historical Park   \n",
       "\n",
       "       Region State_Abbr  Year  Month  RecreationVisits  TentCampers  \\\n",
       "0  Southeast          KY  2008      1              5829            0   \n",
       "1  Southeast          KY  2008      2              6911            0   \n",
       "2  Southeast          KY  2008      3             10720            0   \n",
       "3  Southeast          KY  2008      4             17829            0   \n",
       "4  Southeast          KY  2008      5             26295            0   \n",
       "5  Southeast          KY  2008      6             33817            0   \n",
       "6  Southeast          KY  2008      7             29225            0   \n",
       "7  Southeast          KY  2008      8             22166            0   \n",
       "8  Southeast          KY  2008      9             21765            0   \n",
       "9  Southeast          KY  2008     10             13747            0   \n",
       "\n",
       "   RVCampers     State  \n",
       "0          0  Kentucky  \n",
       "1          0  Kentucky  \n",
       "2          0  Kentucky  \n",
       "3          0  Kentucky  \n",
       "4          0  Kentucky  \n",
       "5          0  Kentucky  \n",
       "6          0  Kentucky  \n",
       "7          0  Kentucky  \n",
       "8          0  Kentucky  \n",
       "9          0  Kentucky  "
      ]
     },
     "execution_count": 39,
     "metadata": {},
     "output_type": "execute_result"
    }
   ],
   "source": [
    "np_df_actual=np_df\n",
    "np_df_actual= np_df_actual.rename(columns={\"State\": \"State_Abbr\"})\n",
    "np_df_actual.State_Abbr = np_df_actual.State_Abbr.str.strip()\n",
    "np_df_actual = pd.merge(np_df_actual,us_states_abbr_df, how='left', on='State_Abbr')\n",
    "np_df_actual.State = np_df_actual.State.str.strip()\n",
    "np_df_actual.head(10)\n"
   ]
  },
  {
   "cell_type": "code",
   "execution_count": 40,
   "metadata": {},
   "outputs": [],
   "source": [
    "np_df_loc_short=np_df_loc[[\"UnitCode\",'Latitude',\"Longitude\"]]\n",
    "np_df_final = pd.merge(np_df_actual,np_df_loc_short, how='left', on='UnitCode')\n",
    "np_df_final.head(10)\n",
    "np_df_final.shape\n",
    "np_df_final.to_csv(\"nps_base_data.csv\")"
   ]
  },
  {
   "cell_type": "code",
   "execution_count": null,
   "metadata": {},
   "outputs": [],
   "source": []
  }
 ],
 "metadata": {
  "kernelspec": {
   "display_name": "Python 3",
   "language": "python",
   "name": "python3"
  },
  "language_info": {
   "codemirror_mode": {
    "name": "ipython",
    "version": 3
   },
   "file_extension": ".py",
   "mimetype": "text/x-python",
   "name": "python",
   "nbconvert_exporter": "python",
   "pygments_lexer": "ipython3",
   "version": "3.7.3"
  }
 },
 "nbformat": 4,
 "nbformat_minor": 4
}
